{
  "cells": [
    {
      "cell_type": "markdown",
      "metadata": {
        "id": "view-in-github",
        "colab_type": "text"
      },
      "source": [
        "<a href=\"https://colab.research.google.com/github/kjso3887/Section-2-Project/blob/master/AI_14_%EC%B5%9C%EC%9C%A0%EC%A7%84_Section2.ipynb\" target=\"_parent\"><img src=\"https://colab.research.google.com/assets/colab-badge.svg\" alt=\"Open In Colab\"/></a>"
      ]
    },
    {
      "cell_type": "markdown",
      "id": "1b3af6c1",
      "metadata": {
        "id": "1b3af6c1"
      },
      "source": [
        "# 영화 관객수 예측 모델 제작 Project\n",
        "----------------------"
      ]
    },
    {
      "cell_type": "markdown",
      "id": "3d2f5181",
      "metadata": {
        "id": "3d2f5181"
      },
      "source": [
        " ## 1. 데이터\n",
        "2010년대 한국에서 개봉한 한국영화 600개에 대한 감독, 이름, 상영등급, 관객수 등의 정보가 담긴 train데이터를 가지고 test데이터에 대한 관객수를 예측하는 프로젝트입니다.   \n",
        "__영화 데이터를 활용해 영화의 흥행, 관객수 등을 예측__ 할 수 있지 않을까 생각하던 차에 데이콘에서 관객수 예측 대회를 진행한다는 것을 알게되었습니다.    \n",
        "데이콘에서 제공하는 데이터셋이 한국 영화를 주제로 한 데이터여서 흥미로웠고, 데이터 양은 많다고 할 수 없지만 k-fold방식을 활용하면 데이터 부족을 어느정도 해결할 수 있을것 같다고 생각했습니다.    \n",
        "__데이콘 대회 참여__ 와 __프로젝트 진행__ 을 병행해보면 좋을것 같다는 생각이 들어 해당 데이터셋으로 프로젝트를 진행하게 되었습니다.\n",
        "* 데이터셋 출처(https://dacon.io/competitions/open/235536/data)    \n",
        "> * 데이터 설명\n",
        ">1.__title__ - 영화의 제목\t\n",
        ">2.__distributor__ - 배급사\t\n",
        ">3.__genre__ - 장르\t\n",
        ">4.__release_time__ - 개봉일   \n",
        ">5.__time__ - 상영시간(분)  \n",
        ">6.__screening_rat__\t- 상영등급  \n",
        ">7.__director__ - \t감독이름  \n",
        ">8.__dir_prev_bfnum__ - 해당 감독이 이 영화를 만들기 전 제작에 참여한 영화에서의 평균 관객수(단 관객수가 알려지지 않은 영화 제외)    \n",
        ">9.__dir_prev_num__ - 해당 감독이 이 영화를 만들기 전 제작에 참여한 영화의 개수(단 관객수가 알려지지 않은 영화 제외)\t  \n",
        ">10.__num_staff__\t- 스텝수    \n",
        ">11.__num_actor__\t- 주연 배우수  \n",
        ">12.__box_off_num__ - 관객수\t\n",
        "\n",
        " \n",
        " "
      ]
    },
    {
      "cell_type": "markdown",
      "id": "1c458933",
      "metadata": {
        "id": "1c458933"
      },
      "source": [
        "저의 목표는 관객수를 예측하는 것이기 때문에 __'box_off_num'__ 을 타겟값으로 설정하겠습니다."
      ]
    },
    {
      "cell_type": "code",
      "execution_count": null,
      "id": "e1698390",
      "metadata": {
        "id": "e1698390"
      },
      "outputs": [],
      "source": [
        "import numpy as np\n",
        "import pandas as pd"
      ]
    },
    {
      "cell_type": "code",
      "execution_count": null,
      "id": "d8a0e686",
      "metadata": {
        "id": "d8a0e686"
      },
      "outputs": [],
      "source": [
        "import warnings\n",
        "warnings.filterwarnings('ignore')\n",
        "\n",
        "train = pd.read_csv(\"movies_train.csv\")\n",
        "test = pd.read_csv(\"movies_test.csv\")\n",
        "submission = pd.read_csv(\"submission.csv\")"
      ]
    },
    {
      "cell_type": "code",
      "execution_count": null,
      "id": "a9891861",
      "metadata": {
        "id": "a9891861",
        "outputId": "23871d88-bc66-4362-dc43-80d68b2930bb"
      },
      "outputs": [
        {
          "data": {
            "text/html": [
              "<div>\n",
              "<style scoped>\n",
              "    .dataframe tbody tr th:only-of-type {\n",
              "        vertical-align: middle;\n",
              "    }\n",
              "\n",
              "    .dataframe tbody tr th {\n",
              "        vertical-align: top;\n",
              "    }\n",
              "\n",
              "    .dataframe thead th {\n",
              "        text-align: right;\n",
              "    }\n",
              "</style>\n",
              "<table border=\"1\" class=\"dataframe\">\n",
              "  <thead>\n",
              "    <tr style=\"text-align: right;\">\n",
              "      <th></th>\n",
              "      <th>title</th>\n",
              "      <th>distributor</th>\n",
              "      <th>genre</th>\n",
              "      <th>release_time</th>\n",
              "      <th>time</th>\n",
              "      <th>screening_rat</th>\n",
              "      <th>director</th>\n",
              "      <th>dir_prev_bfnum</th>\n",
              "      <th>dir_prev_num</th>\n",
              "      <th>num_staff</th>\n",
              "      <th>num_actor</th>\n",
              "      <th>box_off_num</th>\n",
              "    </tr>\n",
              "  </thead>\n",
              "  <tbody>\n",
              "    <tr>\n",
              "      <th>0</th>\n",
              "      <td>개들의 전쟁</td>\n",
              "      <td>롯데엔터테인먼트</td>\n",
              "      <td>액션</td>\n",
              "      <td>2012-11-22</td>\n",
              "      <td>96</td>\n",
              "      <td>청소년 관람불가</td>\n",
              "      <td>조병옥</td>\n",
              "      <td>NaN</td>\n",
              "      <td>0</td>\n",
              "      <td>91</td>\n",
              "      <td>2</td>\n",
              "      <td>23398</td>\n",
              "    </tr>\n",
              "    <tr>\n",
              "      <th>1</th>\n",
              "      <td>내부자들</td>\n",
              "      <td>(주)쇼박스</td>\n",
              "      <td>느와르</td>\n",
              "      <td>2015-11-19</td>\n",
              "      <td>130</td>\n",
              "      <td>청소년 관람불가</td>\n",
              "      <td>우민호</td>\n",
              "      <td>1161602.50</td>\n",
              "      <td>2</td>\n",
              "      <td>387</td>\n",
              "      <td>3</td>\n",
              "      <td>7072501</td>\n",
              "    </tr>\n",
              "    <tr>\n",
              "      <th>2</th>\n",
              "      <td>은밀하게 위대하게</td>\n",
              "      <td>(주)쇼박스</td>\n",
              "      <td>액션</td>\n",
              "      <td>2013-06-05</td>\n",
              "      <td>123</td>\n",
              "      <td>15세 관람가</td>\n",
              "      <td>장철수</td>\n",
              "      <td>220775.25</td>\n",
              "      <td>4</td>\n",
              "      <td>343</td>\n",
              "      <td>4</td>\n",
              "      <td>6959083</td>\n",
              "    </tr>\n",
              "    <tr>\n",
              "      <th>3</th>\n",
              "      <td>나는 공무원이다</td>\n",
              "      <td>(주)NEW</td>\n",
              "      <td>코미디</td>\n",
              "      <td>2012-07-12</td>\n",
              "      <td>101</td>\n",
              "      <td>전체 관람가</td>\n",
              "      <td>구자홍</td>\n",
              "      <td>23894.00</td>\n",
              "      <td>2</td>\n",
              "      <td>20</td>\n",
              "      <td>6</td>\n",
              "      <td>217866</td>\n",
              "    </tr>\n",
              "    <tr>\n",
              "      <th>4</th>\n",
              "      <td>불량남녀</td>\n",
              "      <td>쇼박스(주)미디어플렉스</td>\n",
              "      <td>코미디</td>\n",
              "      <td>2010-11-04</td>\n",
              "      <td>108</td>\n",
              "      <td>15세 관람가</td>\n",
              "      <td>신근호</td>\n",
              "      <td>1.00</td>\n",
              "      <td>1</td>\n",
              "      <td>251</td>\n",
              "      <td>2</td>\n",
              "      <td>483387</td>\n",
              "    </tr>\n",
              "    <tr>\n",
              "      <th>5</th>\n",
              "      <td>강철대오 : 구국의 철가방</td>\n",
              "      <td>롯데엔터테인먼트</td>\n",
              "      <td>코미디</td>\n",
              "      <td>2012-10-25</td>\n",
              "      <td>113</td>\n",
              "      <td>15세 관람가</td>\n",
              "      <td>육상효</td>\n",
              "      <td>837969.00</td>\n",
              "      <td>2</td>\n",
              "      <td>262</td>\n",
              "      <td>4</td>\n",
              "      <td>233211</td>\n",
              "    </tr>\n",
              "    <tr>\n",
              "      <th>6</th>\n",
              "      <td>길위에서</td>\n",
              "      <td>백두대간</td>\n",
              "      <td>다큐멘터리</td>\n",
              "      <td>2013-05-23</td>\n",
              "      <td>104</td>\n",
              "      <td>전체 관람가</td>\n",
              "      <td>이창재</td>\n",
              "      <td>NaN</td>\n",
              "      <td>0</td>\n",
              "      <td>32</td>\n",
              "      <td>5</td>\n",
              "      <td>53526</td>\n",
              "    </tr>\n",
              "    <tr>\n",
              "      <th>7</th>\n",
              "      <td>회사원</td>\n",
              "      <td>(주)쇼박스</td>\n",
              "      <td>액션</td>\n",
              "      <td>2012-10-11</td>\n",
              "      <td>96</td>\n",
              "      <td>청소년 관람불가</td>\n",
              "      <td>임상윤</td>\n",
              "      <td>739522.00</td>\n",
              "      <td>3</td>\n",
              "      <td>342</td>\n",
              "      <td>2</td>\n",
              "      <td>1110523</td>\n",
              "    </tr>\n",
              "    <tr>\n",
              "      <th>8</th>\n",
              "      <td>1789, 바스티유의 연인들</td>\n",
              "      <td>유니버설픽쳐스인터내셔널코리아</td>\n",
              "      <td>뮤지컬</td>\n",
              "      <td>2014-09-18</td>\n",
              "      <td>129</td>\n",
              "      <td>전체 관람가</td>\n",
              "      <td>정성복</td>\n",
              "      <td>NaN</td>\n",
              "      <td>0</td>\n",
              "      <td>3</td>\n",
              "      <td>5</td>\n",
              "      <td>4778</td>\n",
              "    </tr>\n",
              "    <tr>\n",
              "      <th>9</th>\n",
              "      <td>청춘그루브</td>\n",
              "      <td>(주)두타연</td>\n",
              "      <td>드라마</td>\n",
              "      <td>2012-03-15</td>\n",
              "      <td>94</td>\n",
              "      <td>15세 관람가</td>\n",
              "      <td>변성현</td>\n",
              "      <td>NaN</td>\n",
              "      <td>0</td>\n",
              "      <td>138</td>\n",
              "      <td>3</td>\n",
              "      <td>868</td>\n",
              "    </tr>\n",
              "  </tbody>\n",
              "</table>\n",
              "</div>"
            ],
            "text/plain": [
              "             title      distributor  genre release_time  time screening_rat  \\\n",
              "0           개들의 전쟁         롯데엔터테인먼트     액션   2012-11-22    96      청소년 관람불가   \n",
              "1             내부자들           (주)쇼박스    느와르   2015-11-19   130      청소년 관람불가   \n",
              "2        은밀하게 위대하게           (주)쇼박스     액션   2013-06-05   123       15세 관람가   \n",
              "3         나는 공무원이다           (주)NEW    코미디   2012-07-12   101        전체 관람가   \n",
              "4             불량남녀     쇼박스(주)미디어플렉스    코미디   2010-11-04   108       15세 관람가   \n",
              "5   강철대오 : 구국의 철가방         롯데엔터테인먼트    코미디   2012-10-25   113       15세 관람가   \n",
              "6             길위에서             백두대간  다큐멘터리   2013-05-23   104        전체 관람가   \n",
              "7              회사원           (주)쇼박스     액션   2012-10-11    96      청소년 관람불가   \n",
              "8  1789, 바스티유의 연인들  유니버설픽쳐스인터내셔널코리아    뮤지컬   2014-09-18   129        전체 관람가   \n",
              "9            청춘그루브           (주)두타연    드라마   2012-03-15    94       15세 관람가   \n",
              "\n",
              "  director  dir_prev_bfnum  dir_prev_num  num_staff  num_actor  box_off_num  \n",
              "0      조병옥             NaN             0         91          2        23398  \n",
              "1      우민호      1161602.50             2        387          3      7072501  \n",
              "2      장철수       220775.25             4        343          4      6959083  \n",
              "3      구자홍        23894.00             2         20          6       217866  \n",
              "4      신근호            1.00             1        251          2       483387  \n",
              "5      육상효       837969.00             2        262          4       233211  \n",
              "6      이창재             NaN             0         32          5        53526  \n",
              "7      임상윤       739522.00             3        342          2      1110523  \n",
              "8      정성복             NaN             0          3          5         4778  \n",
              "9      변성현             NaN             0        138          3          868  "
            ]
          },
          "execution_count": 3,
          "metadata": {},
          "output_type": "execute_result"
        }
      ],
      "source": [
        "train.head(10)"
      ]
    },
    {
      "cell_type": "code",
      "execution_count": null,
      "id": "d0bb782e",
      "metadata": {
        "id": "d0bb782e",
        "outputId": "a8afc67b-4248-44d3-c5fb-7db941805277"
      },
      "outputs": [
        {
          "data": {
            "text/html": [
              "<div>\n",
              "<style scoped>\n",
              "    .dataframe tbody tr th:only-of-type {\n",
              "        vertical-align: middle;\n",
              "    }\n",
              "\n",
              "    .dataframe tbody tr th {\n",
              "        vertical-align: top;\n",
              "    }\n",
              "\n",
              "    .dataframe thead th {\n",
              "        text-align: right;\n",
              "    }\n",
              "</style>\n",
              "<table border=\"1\" class=\"dataframe\">\n",
              "  <thead>\n",
              "    <tr style=\"text-align: right;\">\n",
              "      <th></th>\n",
              "      <th>title</th>\n",
              "      <th>distributor</th>\n",
              "      <th>genre</th>\n",
              "      <th>release_time</th>\n",
              "      <th>time</th>\n",
              "      <th>screening_rat</th>\n",
              "      <th>director</th>\n",
              "      <th>dir_prev_bfnum</th>\n",
              "      <th>dir_prev_num</th>\n",
              "      <th>num_staff</th>\n",
              "      <th>num_actor</th>\n",
              "    </tr>\n",
              "  </thead>\n",
              "  <tbody>\n",
              "    <tr>\n",
              "      <th>0</th>\n",
              "      <td>용서는 없다</td>\n",
              "      <td>시네마서비스</td>\n",
              "      <td>느와르</td>\n",
              "      <td>2010-01-07</td>\n",
              "      <td>125</td>\n",
              "      <td>청소년 관람불가</td>\n",
              "      <td>김형준</td>\n",
              "      <td>3.005290e+05</td>\n",
              "      <td>2</td>\n",
              "      <td>304</td>\n",
              "      <td>3</td>\n",
              "    </tr>\n",
              "    <tr>\n",
              "      <th>1</th>\n",
              "      <td>아빠가 여자를 좋아해</td>\n",
              "      <td>(주)쇼박스</td>\n",
              "      <td>멜로/로맨스</td>\n",
              "      <td>2010-01-14</td>\n",
              "      <td>113</td>\n",
              "      <td>12세 관람가</td>\n",
              "      <td>이광재</td>\n",
              "      <td>3.427002e+05</td>\n",
              "      <td>4</td>\n",
              "      <td>275</td>\n",
              "      <td>3</td>\n",
              "    </tr>\n",
              "    <tr>\n",
              "      <th>2</th>\n",
              "      <td>하모니</td>\n",
              "      <td>CJ 엔터테인먼트</td>\n",
              "      <td>드라마</td>\n",
              "      <td>2010-01-28</td>\n",
              "      <td>115</td>\n",
              "      <td>12세 관람가</td>\n",
              "      <td>강대규</td>\n",
              "      <td>4.206611e+06</td>\n",
              "      <td>3</td>\n",
              "      <td>419</td>\n",
              "      <td>7</td>\n",
              "    </tr>\n",
              "    <tr>\n",
              "      <th>3</th>\n",
              "      <td>의형제</td>\n",
              "      <td>(주)쇼박스</td>\n",
              "      <td>액션</td>\n",
              "      <td>2010-02-04</td>\n",
              "      <td>116</td>\n",
              "      <td>15세 관람가</td>\n",
              "      <td>장훈</td>\n",
              "      <td>6.913420e+05</td>\n",
              "      <td>2</td>\n",
              "      <td>408</td>\n",
              "      <td>2</td>\n",
              "    </tr>\n",
              "    <tr>\n",
              "      <th>4</th>\n",
              "      <td>평행 이론</td>\n",
              "      <td>CJ 엔터테인먼트</td>\n",
              "      <td>공포</td>\n",
              "      <td>2010-02-18</td>\n",
              "      <td>110</td>\n",
              "      <td>15세 관람가</td>\n",
              "      <td>권호영</td>\n",
              "      <td>3.173800e+04</td>\n",
              "      <td>1</td>\n",
              "      <td>380</td>\n",
              "      <td>1</td>\n",
              "    </tr>\n",
              "    <tr>\n",
              "      <th>5</th>\n",
              "      <td>회오리 바람</td>\n",
              "      <td>모쿠슈라</td>\n",
              "      <td>드라마</td>\n",
              "      <td>2010-02-25</td>\n",
              "      <td>95</td>\n",
              "      <td>15세 관람가</td>\n",
              "      <td>장건재</td>\n",
              "      <td>NaN</td>\n",
              "      <td>0</td>\n",
              "      <td>156</td>\n",
              "      <td>2</td>\n",
              "    </tr>\n",
              "    <tr>\n",
              "      <th>6</th>\n",
              "      <td>경계도시 2</td>\n",
              "      <td>시네마 달</td>\n",
              "      <td>다큐멘터리</td>\n",
              "      <td>2010-03-18</td>\n",
              "      <td>104</td>\n",
              "      <td>15세 관람가</td>\n",
              "      <td>홍형숙</td>\n",
              "      <td>NaN</td>\n",
              "      <td>0</td>\n",
              "      <td>11</td>\n",
              "      <td>2</td>\n",
              "    </tr>\n",
              "    <tr>\n",
              "      <th>7</th>\n",
              "      <td>이웃집 남자</td>\n",
              "      <td>(주)루믹스미디어</td>\n",
              "      <td>드라마</td>\n",
              "      <td>2010-03-18</td>\n",
              "      <td>100</td>\n",
              "      <td>청소년 관람불가</td>\n",
              "      <td>장동홍</td>\n",
              "      <td>NaN</td>\n",
              "      <td>0</td>\n",
              "      <td>117</td>\n",
              "      <td>5</td>\n",
              "    </tr>\n",
              "    <tr>\n",
              "      <th>8</th>\n",
              "      <td>아마존의 눈물 극장판</td>\n",
              "      <td>마운틴픽쳐스</td>\n",
              "      <td>다큐멘터리</td>\n",
              "      <td>2010-03-25</td>\n",
              "      <td>88</td>\n",
              "      <td>15세 관람가</td>\n",
              "      <td>김진만</td>\n",
              "      <td>NaN</td>\n",
              "      <td>0</td>\n",
              "      <td>76</td>\n",
              "      <td>1</td>\n",
              "    </tr>\n",
              "    <tr>\n",
              "      <th>9</th>\n",
              "      <td>반가운 살인자</td>\n",
              "      <td>롯데쇼핑(주)롯데엔터테인먼트</td>\n",
              "      <td>코미디</td>\n",
              "      <td>2010-04-08</td>\n",
              "      <td>107</td>\n",
              "      <td>15세 관람가</td>\n",
              "      <td>김동욱</td>\n",
              "      <td>NaN</td>\n",
              "      <td>0</td>\n",
              "      <td>255</td>\n",
              "      <td>3</td>\n",
              "    </tr>\n",
              "  </tbody>\n",
              "</table>\n",
              "</div>"
            ],
            "text/plain": [
              "         title      distributor   genre release_time  time screening_rat  \\\n",
              "0       용서는 없다           시네마서비스     느와르   2010-01-07   125      청소년 관람불가   \n",
              "1  아빠가 여자를 좋아해           (주)쇼박스  멜로/로맨스   2010-01-14   113       12세 관람가   \n",
              "2          하모니        CJ 엔터테인먼트     드라마   2010-01-28   115       12세 관람가   \n",
              "3          의형제           (주)쇼박스      액션   2010-02-04   116       15세 관람가   \n",
              "4        평행 이론        CJ 엔터테인먼트      공포   2010-02-18   110       15세 관람가   \n",
              "5       회오리 바람             모쿠슈라     드라마   2010-02-25    95       15세 관람가   \n",
              "6       경계도시 2            시네마 달   다큐멘터리   2010-03-18   104       15세 관람가   \n",
              "7       이웃집 남자        (주)루믹스미디어     드라마   2010-03-18   100      청소년 관람불가   \n",
              "8  아마존의 눈물 극장판           마운틴픽쳐스   다큐멘터리   2010-03-25    88       15세 관람가   \n",
              "9      반가운 살인자  롯데쇼핑(주)롯데엔터테인먼트     코미디   2010-04-08   107       15세 관람가   \n",
              "\n",
              "  director  dir_prev_bfnum  dir_prev_num  num_staff  num_actor  \n",
              "0      김형준    3.005290e+05             2        304          3  \n",
              "1      이광재    3.427002e+05             4        275          3  \n",
              "2      강대규    4.206611e+06             3        419          7  \n",
              "3       장훈    6.913420e+05             2        408          2  \n",
              "4      권호영    3.173800e+04             1        380          1  \n",
              "5      장건재             NaN             0        156          2  \n",
              "6      홍형숙             NaN             0         11          2  \n",
              "7      장동홍             NaN             0        117          5  \n",
              "8      김진만             NaN             0         76          1  \n",
              "9      김동욱             NaN             0        255          3  "
            ]
          },
          "execution_count": 4,
          "metadata": {},
          "output_type": "execute_result"
        }
      ],
      "source": [
        "test.head(10)"
      ]
    },
    {
      "cell_type": "markdown",
      "id": "71e6cb1a",
      "metadata": {
        "id": "71e6cb1a"
      },
      "source": [
        "데이터를 살펴본 결과 문자열과 수치형 데이터들이 존재합니다. 머신러닝을 적용하기 위해서 Feature Engineering과 EDA를 통해 사용할 특성을 정리하고, 문자열 데이터는 수치형으로 바꾸어주는 과정이 필요할 것으로 보입니다."
      ]
    },
    {
      "cell_type": "code",
      "execution_count": null,
      "id": "73b09e7a",
      "metadata": {
        "id": "73b09e7a",
        "outputId": "15129f6a-afec-4f6c-9a50-82ab2328071a"
      },
      "outputs": [
        {
          "name": "stdout",
          "output_type": "stream",
          "text": [
            "<class 'pandas.core.frame.DataFrame'>\n",
            "RangeIndex: 600 entries, 0 to 599\n",
            "Data columns (total 12 columns):\n",
            " #   Column          Non-Null Count  Dtype  \n",
            "---  ------          --------------  -----  \n",
            " 0   title           600 non-null    object \n",
            " 1   distributor     600 non-null    object \n",
            " 2   genre           600 non-null    object \n",
            " 3   release_time    600 non-null    object \n",
            " 4   time            600 non-null    int64  \n",
            " 5   screening_rat   600 non-null    object \n",
            " 6   director        600 non-null    object \n",
            " 7   dir_prev_bfnum  270 non-null    float64\n",
            " 8   dir_prev_num    600 non-null    int64  \n",
            " 9   num_staff       600 non-null    int64  \n",
            " 10  num_actor       600 non-null    int64  \n",
            " 11  box_off_num     600 non-null    int64  \n",
            "dtypes: float64(1), int64(5), object(6)\n",
            "memory usage: 56.4+ KB\n"
          ]
        }
      ],
      "source": [
        "train.info()"
      ]
    },
    {
      "cell_type": "markdown",
      "id": "5b129e61",
      "metadata": {
        "id": "5b129e61"
      },
      "source": [
        "7번 컬럼에 결측치가 존재한다는 것을 발견했습니다."
      ]
    },
    {
      "cell_type": "code",
      "execution_count": null,
      "id": "a71a180f",
      "metadata": {
        "id": "a71a180f",
        "outputId": "e04f8d8b-b76c-42a3-91ae-a61bce5df870"
      },
      "outputs": [
        {
          "name": "stdout",
          "output_type": "stream",
          "text": [
            "<class 'pandas.core.frame.DataFrame'>\n",
            "RangeIndex: 243 entries, 0 to 242\n",
            "Data columns (total 11 columns):\n",
            " #   Column          Non-Null Count  Dtype  \n",
            "---  ------          --------------  -----  \n",
            " 0   title           243 non-null    object \n",
            " 1   distributor     243 non-null    object \n",
            " 2   genre           243 non-null    object \n",
            " 3   release_time    243 non-null    object \n",
            " 4   time            243 non-null    int64  \n",
            " 5   screening_rat   243 non-null    object \n",
            " 6   director        243 non-null    object \n",
            " 7   dir_prev_bfnum  107 non-null    float64\n",
            " 8   dir_prev_num    243 non-null    int64  \n",
            " 9   num_staff       243 non-null    int64  \n",
            " 10  num_actor       243 non-null    int64  \n",
            "dtypes: float64(1), int64(4), object(6)\n",
            "memory usage: 21.0+ KB\n"
          ]
        }
      ],
      "source": [
        "test.info()"
      ]
    },
    {
      "cell_type": "markdown",
      "id": "c2cb6e6d",
      "metadata": {
        "id": "c2cb6e6d"
      },
      "source": [
        "테스트 데이터셋에도 마찬가지로 7번 컬럼에 결측치가 있습니다."
      ]
    },
    {
      "cell_type": "code",
      "execution_count": null,
      "id": "97b9628e",
      "metadata": {
        "id": "97b9628e",
        "outputId": "68692c0a-2743-4372-f182-01c3a3c22702"
      },
      "outputs": [
        {
          "data": {
            "text/plain": [
              "title               0\n",
              "distributor         0\n",
              "genre               0\n",
              "release_time        0\n",
              "time                0\n",
              "screening_rat       0\n",
              "director            0\n",
              "dir_prev_num        0\n",
              "num_staff           0\n",
              "num_actor           0\n",
              "box_off_num         0\n",
              "dir_prev_bfnum    330\n",
              "dtype: int64"
            ]
          },
          "execution_count": 7,
          "metadata": {},
          "output_type": "execute_result"
        }
      ],
      "source": [
        "train.isna().sum().sort_values()"
      ]
    },
    {
      "cell_type": "code",
      "execution_count": null,
      "id": "8c6a69b1",
      "metadata": {
        "id": "8c6a69b1",
        "outputId": "8e521691-c449-460d-ad70-d68c699f400b"
      },
      "outputs": [
        {
          "data": {
            "text/plain": [
              "0             NaN\n",
              "1      1161602.50\n",
              "2       220775.25\n",
              "3        23894.00\n",
              "4            1.00\n",
              "          ...    \n",
              "595       3833.00\n",
              "596     496061.00\n",
              "597           NaN\n",
              "598           NaN\n",
              "599           NaN\n",
              "Name: dir_prev_bfnum, Length: 600, dtype: float64"
            ]
          },
          "execution_count": 8,
          "metadata": {},
          "output_type": "execute_result"
        }
      ],
      "source": [
        "train['dir_prev_bfnum']"
      ]
    },
    {
      "cell_type": "markdown",
      "id": "7695bb48",
      "metadata": {
        "id": "7695bb48"
      },
      "source": [
        "증복 데이터 확인"
      ]
    },
    {
      "cell_type": "code",
      "execution_count": null,
      "id": "174bbfad",
      "metadata": {
        "id": "174bbfad",
        "outputId": "3c954a96-e4fd-4b5d-bc67-073d042ab2d9"
      },
      "outputs": [
        {
          "data": {
            "text/plain": [
              "0"
            ]
          },
          "execution_count": 9,
          "metadata": {},
          "output_type": "execute_result"
        }
      ],
      "source": [
        "train['title'].duplicated().sum()"
      ]
    },
    {
      "cell_type": "markdown",
      "id": "6f17b4b5",
      "metadata": {
        "id": "6f17b4b5"
      },
      "source": [
        "데이터 카디널리티 확인"
      ]
    },
    {
      "cell_type": "code",
      "execution_count": null,
      "id": "6acb6a0e",
      "metadata": {
        "id": "6acb6a0e",
        "outputId": "1bb073fe-a409-43b0-f3ef-48b5aa482e1b"
      },
      "outputs": [
        {
          "data": {
            "text/html": [
              "<div>\n",
              "<style scoped>\n",
              "    .dataframe tbody tr th:only-of-type {\n",
              "        vertical-align: middle;\n",
              "    }\n",
              "\n",
              "    .dataframe tbody tr th {\n",
              "        vertical-align: top;\n",
              "    }\n",
              "\n",
              "    .dataframe thead th {\n",
              "        text-align: right;\n",
              "    }\n",
              "</style>\n",
              "<table border=\"1\" class=\"dataframe\">\n",
              "  <thead>\n",
              "    <tr style=\"text-align: right;\">\n",
              "      <th></th>\n",
              "      <th>title</th>\n",
              "      <th>distributor</th>\n",
              "      <th>genre</th>\n",
              "      <th>release_time</th>\n",
              "      <th>screening_rat</th>\n",
              "      <th>director</th>\n",
              "    </tr>\n",
              "  </thead>\n",
              "  <tbody>\n",
              "    <tr>\n",
              "      <th>count</th>\n",
              "      <td>600</td>\n",
              "      <td>600</td>\n",
              "      <td>600</td>\n",
              "      <td>600</td>\n",
              "      <td>600</td>\n",
              "      <td>600</td>\n",
              "    </tr>\n",
              "    <tr>\n",
              "      <th>unique</th>\n",
              "      <td>600</td>\n",
              "      <td>169</td>\n",
              "      <td>12</td>\n",
              "      <td>330</td>\n",
              "      <td>4</td>\n",
              "      <td>472</td>\n",
              "    </tr>\n",
              "    <tr>\n",
              "      <th>top</th>\n",
              "      <td>점쟁이들</td>\n",
              "      <td>CJ 엔터테인먼트</td>\n",
              "      <td>드라마</td>\n",
              "      <td>2015-08-13</td>\n",
              "      <td>청소년 관람불가</td>\n",
              "      <td>홍상수</td>\n",
              "    </tr>\n",
              "    <tr>\n",
              "      <th>freq</th>\n",
              "      <td>1</td>\n",
              "      <td>54</td>\n",
              "      <td>221</td>\n",
              "      <td>6</td>\n",
              "      <td>204</td>\n",
              "      <td>7</td>\n",
              "    </tr>\n",
              "  </tbody>\n",
              "</table>\n",
              "</div>"
            ],
            "text/plain": [
              "       title distributor genre release_time screening_rat director\n",
              "count    600         600   600          600           600      600\n",
              "unique   600         169    12          330             4      472\n",
              "top     점쟁이들   CJ 엔터테인먼트   드라마   2015-08-13      청소년 관람불가      홍상수\n",
              "freq       1          54   221            6           204        7"
            ]
          },
          "execution_count": 10,
          "metadata": {},
          "output_type": "execute_result"
        }
      ],
      "source": [
        "train.describe(exclude='number')"
      ]
    },
    {
      "cell_type": "markdown",
      "id": "f7340fe3",
      "metadata": {
        "id": "f7340fe3"
      },
      "source": [
        "__'genre(장르)'__와 '__screening_rat(상영등급)__'은 명목형 변수이지만, 카디널리티가 적기(범주가 적기) 때문에 인코딩하여 수치형 변수로 만들어 머신러닝에 활용하면 좋을듯 보입니다."
      ]
    },
    {
      "cell_type": "code",
      "execution_count": null,
      "id": "9817d31e",
      "metadata": {
        "id": "9817d31e",
        "outputId": "5ffb3c3e-3474-4177-fa71-c9d1ea6ded19"
      },
      "outputs": [
        {
          "data": {
            "text/html": [
              "<div>\n",
              "<style scoped>\n",
              "    .dataframe tbody tr th:only-of-type {\n",
              "        vertical-align: middle;\n",
              "    }\n",
              "\n",
              "    .dataframe tbody tr th {\n",
              "        vertical-align: top;\n",
              "    }\n",
              "\n",
              "    .dataframe thead th {\n",
              "        text-align: right;\n",
              "    }\n",
              "</style>\n",
              "<table border=\"1\" class=\"dataframe\">\n",
              "  <thead>\n",
              "    <tr style=\"text-align: right;\">\n",
              "      <th></th>\n",
              "      <th>time</th>\n",
              "      <th>dir_prev_bfnum</th>\n",
              "      <th>dir_prev_num</th>\n",
              "      <th>num_staff</th>\n",
              "      <th>num_actor</th>\n",
              "      <th>box_off_num</th>\n",
              "    </tr>\n",
              "  </thead>\n",
              "  <tbody>\n",
              "    <tr>\n",
              "      <th>count</th>\n",
              "      <td>600.000000</td>\n",
              "      <td>2.700000e+02</td>\n",
              "      <td>600.000000</td>\n",
              "      <td>600.000000</td>\n",
              "      <td>600.000000</td>\n",
              "      <td>6.000000e+02</td>\n",
              "    </tr>\n",
              "    <tr>\n",
              "      <th>mean</th>\n",
              "      <td>100.863333</td>\n",
              "      <td>1.050443e+06</td>\n",
              "      <td>0.876667</td>\n",
              "      <td>151.118333</td>\n",
              "      <td>3.706667</td>\n",
              "      <td>7.081818e+05</td>\n",
              "    </tr>\n",
              "    <tr>\n",
              "      <th>std</th>\n",
              "      <td>18.097528</td>\n",
              "      <td>1.791408e+06</td>\n",
              "      <td>1.183409</td>\n",
              "      <td>165.654671</td>\n",
              "      <td>2.446889</td>\n",
              "      <td>1.828006e+06</td>\n",
              "    </tr>\n",
              "    <tr>\n",
              "      <th>min</th>\n",
              "      <td>45.000000</td>\n",
              "      <td>1.000000e+00</td>\n",
              "      <td>0.000000</td>\n",
              "      <td>0.000000</td>\n",
              "      <td>0.000000</td>\n",
              "      <td>1.000000e+00</td>\n",
              "    </tr>\n",
              "    <tr>\n",
              "      <th>25%</th>\n",
              "      <td>89.000000</td>\n",
              "      <td>2.038000e+04</td>\n",
              "      <td>0.000000</td>\n",
              "      <td>17.000000</td>\n",
              "      <td>2.000000</td>\n",
              "      <td>1.297250e+03</td>\n",
              "    </tr>\n",
              "    <tr>\n",
              "      <th>50%</th>\n",
              "      <td>100.000000</td>\n",
              "      <td>4.784236e+05</td>\n",
              "      <td>0.000000</td>\n",
              "      <td>82.500000</td>\n",
              "      <td>3.000000</td>\n",
              "      <td>1.259100e+04</td>\n",
              "    </tr>\n",
              "    <tr>\n",
              "      <th>75%</th>\n",
              "      <td>114.000000</td>\n",
              "      <td>1.286569e+06</td>\n",
              "      <td>2.000000</td>\n",
              "      <td>264.000000</td>\n",
              "      <td>4.000000</td>\n",
              "      <td>4.798868e+05</td>\n",
              "    </tr>\n",
              "    <tr>\n",
              "      <th>max</th>\n",
              "      <td>180.000000</td>\n",
              "      <td>1.761531e+07</td>\n",
              "      <td>5.000000</td>\n",
              "      <td>869.000000</td>\n",
              "      <td>25.000000</td>\n",
              "      <td>1.426277e+07</td>\n",
              "    </tr>\n",
              "  </tbody>\n",
              "</table>\n",
              "</div>"
            ],
            "text/plain": [
              "             time  dir_prev_bfnum  dir_prev_num   num_staff   num_actor  \\\n",
              "count  600.000000    2.700000e+02    600.000000  600.000000  600.000000   \n",
              "mean   100.863333    1.050443e+06      0.876667  151.118333    3.706667   \n",
              "std     18.097528    1.791408e+06      1.183409  165.654671    2.446889   \n",
              "min     45.000000    1.000000e+00      0.000000    0.000000    0.000000   \n",
              "25%     89.000000    2.038000e+04      0.000000   17.000000    2.000000   \n",
              "50%    100.000000    4.784236e+05      0.000000   82.500000    3.000000   \n",
              "75%    114.000000    1.286569e+06      2.000000  264.000000    4.000000   \n",
              "max    180.000000    1.761531e+07      5.000000  869.000000   25.000000   \n",
              "\n",
              "        box_off_num  \n",
              "count  6.000000e+02  \n",
              "mean   7.081818e+05  \n",
              "std    1.828006e+06  \n",
              "min    1.000000e+00  \n",
              "25%    1.297250e+03  \n",
              "50%    1.259100e+04  \n",
              "75%    4.798868e+05  \n",
              "max    1.426277e+07  "
            ]
          },
          "execution_count": 11,
          "metadata": {},
          "output_type": "execute_result"
        }
      ],
      "source": [
        "train.describe()"
      ]
    },
    {
      "cell_type": "code",
      "execution_count": null,
      "id": "67a1b103",
      "metadata": {
        "id": "67a1b103"
      },
      "outputs": [],
      "source": [
        "from matplotlib import pyplot as plt\n",
        "import seaborn as sns"
      ]
    },
    {
      "cell_type": "markdown",
      "id": "c58ff5cb",
      "metadata": {
        "id": "c58ff5cb"
      },
      "source": [
        "* 결측치 제거   \n",
        "8번 컬럼은 해당 감독이 이전에 제작했던 영화의 개수를 알려주는 것이고, 7번 컬럼은 이러한 영화들의 평균 관람객수를 알려주는 데이터입니다.\n",
        "따라서, 8번 컬럼의 데이터가 0이라면 이전에 제작했던 영화가 없다는 의미이며, 당연히 7번 컬럼의 값도 0이 나와야 합니다."
      ]
    },
    {
      "cell_type": "code",
      "execution_count": null,
      "id": "76aeb2f2",
      "metadata": {
        "id": "76aeb2f2",
        "outputId": "20f2f759-5083-4bac-c3dd-8e2208578689"
      },
      "outputs": [
        {
          "data": {
            "text/plain": [
              "0"
            ]
          },
          "execution_count": 13,
          "metadata": {},
          "output_type": "execute_result"
        }
      ],
      "source": [
        "train[train['dir_prev_bfnum'].isna()]['dir_prev_num'].sum()"
      ]
    },
    {
      "cell_type": "code",
      "execution_count": null,
      "id": "d7c18281",
      "metadata": {
        "id": "d7c18281",
        "outputId": "23abd632-5bca-4709-e056-31b86ea7ae03"
      },
      "outputs": [
        {
          "data": {
            "text/plain": [
              "0"
            ]
          },
          "execution_count": 14,
          "metadata": {},
          "output_type": "execute_result"
        }
      ],
      "source": [
        "test[test['dir_prev_bfnum'].isna()]['dir_prev_num'].sum()"
      ]
    },
    {
      "cell_type": "markdown",
      "id": "953e88f0",
      "metadata": {
        "id": "953e88f0"
      },
      "source": [
        "dir_prev_bfnum이 결측값인 데이터들의 dir_prev_num의 값들을 모두 합한 결과 0이 나왔습니다.\n",
        "\n",
        "따라서 dir_prev_bfnum의 결측치들은 모두 0이라고 판단할 수 있습니다."
      ]
    },
    {
      "cell_type": "code",
      "execution_count": null,
      "id": "b3029bf8",
      "metadata": {
        "id": "b3029bf8"
      },
      "outputs": [],
      "source": [
        "train['dir_prev_bfnum'].fillna(0, inplace=True)\n",
        "test['dir_prev_bfnum'].fillna(0, inplace=True)"
      ]
    },
    {
      "cell_type": "code",
      "execution_count": null,
      "id": "4db08483",
      "metadata": {
        "id": "4db08483",
        "outputId": "642ae42a-1a4d-4879-98a6-0ca1d6c44990"
      },
      "outputs": [
        {
          "data": {
            "text/plain": [
              "title             0\n",
              "distributor       0\n",
              "genre             0\n",
              "release_time      0\n",
              "time              0\n",
              "screening_rat     0\n",
              "director          0\n",
              "dir_prev_bfnum    0\n",
              "dir_prev_num      0\n",
              "num_staff         0\n",
              "num_actor         0\n",
              "box_off_num       0\n",
              "dtype: int64"
            ]
          },
          "execution_count": 16,
          "metadata": {},
          "output_type": "execute_result"
        }
      ],
      "source": [
        "train.isna().sum() #결측치가 모두 제거됐음을 확인."
      ]
    },
    {
      "cell_type": "code",
      "execution_count": null,
      "id": "04ff1094",
      "metadata": {
        "id": "04ff1094",
        "outputId": "294f3de4-d7ad-4ebe-d9fb-06d9e003d58a"
      },
      "outputs": [
        {
          "data": {
            "text/html": [
              "<div>\n",
              "<style scoped>\n",
              "    .dataframe tbody tr th:only-of-type {\n",
              "        vertical-align: middle;\n",
              "    }\n",
              "\n",
              "    .dataframe tbody tr th {\n",
              "        vertical-align: top;\n",
              "    }\n",
              "\n",
              "    .dataframe thead th {\n",
              "        text-align: right;\n",
              "    }\n",
              "</style>\n",
              "<table border=\"1\" class=\"dataframe\">\n",
              "  <thead>\n",
              "    <tr style=\"text-align: right;\">\n",
              "      <th></th>\n",
              "      <th>title</th>\n",
              "      <th>distributor</th>\n",
              "      <th>genre</th>\n",
              "      <th>release_time</th>\n",
              "      <th>time</th>\n",
              "      <th>screening_rat</th>\n",
              "      <th>director</th>\n",
              "      <th>dir_prev_bfnum</th>\n",
              "      <th>dir_prev_num</th>\n",
              "      <th>num_staff</th>\n",
              "      <th>num_actor</th>\n",
              "      <th>box_off_num</th>\n",
              "    </tr>\n",
              "  </thead>\n",
              "  <tbody>\n",
              "    <tr>\n",
              "      <th>0</th>\n",
              "      <td>개들의 전쟁</td>\n",
              "      <td>롯데엔터테인먼트</td>\n",
              "      <td>액션</td>\n",
              "      <td>2012-11-22</td>\n",
              "      <td>96</td>\n",
              "      <td>청소년 관람불가</td>\n",
              "      <td>조병옥</td>\n",
              "      <td>0.00</td>\n",
              "      <td>0</td>\n",
              "      <td>91</td>\n",
              "      <td>2</td>\n",
              "      <td>23398</td>\n",
              "    </tr>\n",
              "    <tr>\n",
              "      <th>1</th>\n",
              "      <td>내부자들</td>\n",
              "      <td>(주)쇼박스</td>\n",
              "      <td>느와르</td>\n",
              "      <td>2015-11-19</td>\n",
              "      <td>130</td>\n",
              "      <td>청소년 관람불가</td>\n",
              "      <td>우민호</td>\n",
              "      <td>1161602.50</td>\n",
              "      <td>2</td>\n",
              "      <td>387</td>\n",
              "      <td>3</td>\n",
              "      <td>7072501</td>\n",
              "    </tr>\n",
              "    <tr>\n",
              "      <th>2</th>\n",
              "      <td>은밀하게 위대하게</td>\n",
              "      <td>(주)쇼박스</td>\n",
              "      <td>액션</td>\n",
              "      <td>2013-06-05</td>\n",
              "      <td>123</td>\n",
              "      <td>15세 관람가</td>\n",
              "      <td>장철수</td>\n",
              "      <td>220775.25</td>\n",
              "      <td>4</td>\n",
              "      <td>343</td>\n",
              "      <td>4</td>\n",
              "      <td>6959083</td>\n",
              "    </tr>\n",
              "    <tr>\n",
              "      <th>3</th>\n",
              "      <td>나는 공무원이다</td>\n",
              "      <td>(주)NEW</td>\n",
              "      <td>코미디</td>\n",
              "      <td>2012-07-12</td>\n",
              "      <td>101</td>\n",
              "      <td>전체 관람가</td>\n",
              "      <td>구자홍</td>\n",
              "      <td>23894.00</td>\n",
              "      <td>2</td>\n",
              "      <td>20</td>\n",
              "      <td>6</td>\n",
              "      <td>217866</td>\n",
              "    </tr>\n",
              "    <tr>\n",
              "      <th>4</th>\n",
              "      <td>불량남녀</td>\n",
              "      <td>쇼박스(주)미디어플렉스</td>\n",
              "      <td>코미디</td>\n",
              "      <td>2010-11-04</td>\n",
              "      <td>108</td>\n",
              "      <td>15세 관람가</td>\n",
              "      <td>신근호</td>\n",
              "      <td>1.00</td>\n",
              "      <td>1</td>\n",
              "      <td>251</td>\n",
              "      <td>2</td>\n",
              "      <td>483387</td>\n",
              "    </tr>\n",
              "    <tr>\n",
              "      <th>5</th>\n",
              "      <td>강철대오 : 구국의 철가방</td>\n",
              "      <td>롯데엔터테인먼트</td>\n",
              "      <td>코미디</td>\n",
              "      <td>2012-10-25</td>\n",
              "      <td>113</td>\n",
              "      <td>15세 관람가</td>\n",
              "      <td>육상효</td>\n",
              "      <td>837969.00</td>\n",
              "      <td>2</td>\n",
              "      <td>262</td>\n",
              "      <td>4</td>\n",
              "      <td>233211</td>\n",
              "    </tr>\n",
              "    <tr>\n",
              "      <th>6</th>\n",
              "      <td>길위에서</td>\n",
              "      <td>백두대간</td>\n",
              "      <td>다큐멘터리</td>\n",
              "      <td>2013-05-23</td>\n",
              "      <td>104</td>\n",
              "      <td>전체 관람가</td>\n",
              "      <td>이창재</td>\n",
              "      <td>0.00</td>\n",
              "      <td>0</td>\n",
              "      <td>32</td>\n",
              "      <td>5</td>\n",
              "      <td>53526</td>\n",
              "    </tr>\n",
              "    <tr>\n",
              "      <th>7</th>\n",
              "      <td>회사원</td>\n",
              "      <td>(주)쇼박스</td>\n",
              "      <td>액션</td>\n",
              "      <td>2012-10-11</td>\n",
              "      <td>96</td>\n",
              "      <td>청소년 관람불가</td>\n",
              "      <td>임상윤</td>\n",
              "      <td>739522.00</td>\n",
              "      <td>3</td>\n",
              "      <td>342</td>\n",
              "      <td>2</td>\n",
              "      <td>1110523</td>\n",
              "    </tr>\n",
              "    <tr>\n",
              "      <th>8</th>\n",
              "      <td>1789, 바스티유의 연인들</td>\n",
              "      <td>유니버설픽쳐스인터내셔널코리아</td>\n",
              "      <td>뮤지컬</td>\n",
              "      <td>2014-09-18</td>\n",
              "      <td>129</td>\n",
              "      <td>전체 관람가</td>\n",
              "      <td>정성복</td>\n",
              "      <td>0.00</td>\n",
              "      <td>0</td>\n",
              "      <td>3</td>\n",
              "      <td>5</td>\n",
              "      <td>4778</td>\n",
              "    </tr>\n",
              "    <tr>\n",
              "      <th>9</th>\n",
              "      <td>청춘그루브</td>\n",
              "      <td>(주)두타연</td>\n",
              "      <td>드라마</td>\n",
              "      <td>2012-03-15</td>\n",
              "      <td>94</td>\n",
              "      <td>15세 관람가</td>\n",
              "      <td>변성현</td>\n",
              "      <td>0.00</td>\n",
              "      <td>0</td>\n",
              "      <td>138</td>\n",
              "      <td>3</td>\n",
              "      <td>868</td>\n",
              "    </tr>\n",
              "  </tbody>\n",
              "</table>\n",
              "</div>"
            ],
            "text/plain": [
              "             title      distributor  genre release_time  time screening_rat  \\\n",
              "0           개들의 전쟁         롯데엔터테인먼트     액션   2012-11-22    96      청소년 관람불가   \n",
              "1             내부자들           (주)쇼박스    느와르   2015-11-19   130      청소년 관람불가   \n",
              "2        은밀하게 위대하게           (주)쇼박스     액션   2013-06-05   123       15세 관람가   \n",
              "3         나는 공무원이다           (주)NEW    코미디   2012-07-12   101        전체 관람가   \n",
              "4             불량남녀     쇼박스(주)미디어플렉스    코미디   2010-11-04   108       15세 관람가   \n",
              "5   강철대오 : 구국의 철가방         롯데엔터테인먼트    코미디   2012-10-25   113       15세 관람가   \n",
              "6             길위에서             백두대간  다큐멘터리   2013-05-23   104        전체 관람가   \n",
              "7              회사원           (주)쇼박스     액션   2012-10-11    96      청소년 관람불가   \n",
              "8  1789, 바스티유의 연인들  유니버설픽쳐스인터내셔널코리아    뮤지컬   2014-09-18   129        전체 관람가   \n",
              "9            청춘그루브           (주)두타연    드라마   2012-03-15    94       15세 관람가   \n",
              "\n",
              "  director  dir_prev_bfnum  dir_prev_num  num_staff  num_actor  box_off_num  \n",
              "0      조병옥            0.00             0         91          2        23398  \n",
              "1      우민호      1161602.50             2        387          3      7072501  \n",
              "2      장철수       220775.25             4        343          4      6959083  \n",
              "3      구자홍        23894.00             2         20          6       217866  \n",
              "4      신근호            1.00             1        251          2       483387  \n",
              "5      육상효       837969.00             2        262          4       233211  \n",
              "6      이창재            0.00             0         32          5        53526  \n",
              "7      임상윤       739522.00             3        342          2      1110523  \n",
              "8      정성복            0.00             0          3          5         4778  \n",
              "9      변성현            0.00             0        138          3          868  "
            ]
          },
          "execution_count": 17,
          "metadata": {},
          "output_type": "execute_result"
        }
      ],
      "source": [
        "train.head(10)"
      ]
    },
    {
      "cell_type": "markdown",
      "id": "996f54b1",
      "metadata": {
        "id": "996f54b1"
      },
      "source": [
        "결측치가 모두 0으로 채워졌음을 확인할 수 있습니다."
      ]
    },
    {
      "cell_type": "markdown",
      "id": "cb076cd3",
      "metadata": {
        "id": "cb076cd3"
      },
      "source": [
        "## Feature Engineering"
      ]
    },
    {
      "cell_type": "code",
      "execution_count": null,
      "id": "418288f1",
      "metadata": {
        "id": "418288f1",
        "outputId": "db91e34e-5d71-4537-ea87-84202816f83d"
      },
      "outputs": [
        {
          "data": {
            "text/html": [
              "<div>\n",
              "<style scoped>\n",
              "    .dataframe tbody tr th:only-of-type {\n",
              "        vertical-align: middle;\n",
              "    }\n",
              "\n",
              "    .dataframe tbody tr th {\n",
              "        vertical-align: top;\n",
              "    }\n",
              "\n",
              "    .dataframe thead th {\n",
              "        text-align: right;\n",
              "    }\n",
              "</style>\n",
              "<table border=\"1\" class=\"dataframe\">\n",
              "  <thead>\n",
              "    <tr style=\"text-align: right;\">\n",
              "      <th></th>\n",
              "      <th>title</th>\n",
              "      <th>distributor</th>\n",
              "      <th>genre</th>\n",
              "      <th>release_time</th>\n",
              "      <th>screening_rat</th>\n",
              "      <th>director</th>\n",
              "    </tr>\n",
              "  </thead>\n",
              "  <tbody>\n",
              "    <tr>\n",
              "      <th>count</th>\n",
              "      <td>600</td>\n",
              "      <td>600</td>\n",
              "      <td>600</td>\n",
              "      <td>600</td>\n",
              "      <td>600</td>\n",
              "      <td>600</td>\n",
              "    </tr>\n",
              "    <tr>\n",
              "      <th>unique</th>\n",
              "      <td>600</td>\n",
              "      <td>169</td>\n",
              "      <td>12</td>\n",
              "      <td>330</td>\n",
              "      <td>4</td>\n",
              "      <td>472</td>\n",
              "    </tr>\n",
              "    <tr>\n",
              "      <th>top</th>\n",
              "      <td>점쟁이들</td>\n",
              "      <td>CJ 엔터테인먼트</td>\n",
              "      <td>드라마</td>\n",
              "      <td>2015-08-13</td>\n",
              "      <td>청소년 관람불가</td>\n",
              "      <td>홍상수</td>\n",
              "    </tr>\n",
              "    <tr>\n",
              "      <th>freq</th>\n",
              "      <td>1</td>\n",
              "      <td>54</td>\n",
              "      <td>221</td>\n",
              "      <td>6</td>\n",
              "      <td>204</td>\n",
              "      <td>7</td>\n",
              "    </tr>\n",
              "  </tbody>\n",
              "</table>\n",
              "</div>"
            ],
            "text/plain": [
              "       title distributor genre release_time screening_rat director\n",
              "count    600         600   600          600           600      600\n",
              "unique   600         169    12          330             4      472\n",
              "top     점쟁이들   CJ 엔터테인먼트   드라마   2015-08-13      청소년 관람불가      홍상수\n",
              "freq       1          54   221            6           204        7"
            ]
          },
          "execution_count": 18,
          "metadata": {},
          "output_type": "execute_result"
        }
      ],
      "source": [
        "train.describe(exclude='number')"
      ]
    },
    {
      "cell_type": "code",
      "execution_count": null,
      "id": "bb06260a",
      "metadata": {
        "id": "bb06260a",
        "outputId": "c5d294e3-76d4-4430-c646-6b0a6bed252b"
      },
      "outputs": [
        {
          "data": {
            "text/html": [
              "<div>\n",
              "<style scoped>\n",
              "    .dataframe tbody tr th:only-of-type {\n",
              "        vertical-align: middle;\n",
              "    }\n",
              "\n",
              "    .dataframe tbody tr th {\n",
              "        vertical-align: top;\n",
              "    }\n",
              "\n",
              "    .dataframe thead th {\n",
              "        text-align: right;\n",
              "    }\n",
              "</style>\n",
              "<table border=\"1\" class=\"dataframe\">\n",
              "  <thead>\n",
              "    <tr style=\"text-align: right;\">\n",
              "      <th></th>\n",
              "      <th>time</th>\n",
              "      <th>dir_prev_bfnum</th>\n",
              "      <th>dir_prev_num</th>\n",
              "      <th>num_staff</th>\n",
              "      <th>num_actor</th>\n",
              "      <th>box_off_num</th>\n",
              "    </tr>\n",
              "  </thead>\n",
              "  <tbody>\n",
              "    <tr>\n",
              "      <th>time</th>\n",
              "      <td>1.000000</td>\n",
              "      <td>0.266065</td>\n",
              "      <td>0.306727</td>\n",
              "      <td>0.623205</td>\n",
              "      <td>0.114153</td>\n",
              "      <td>0.441452</td>\n",
              "    </tr>\n",
              "    <tr>\n",
              "      <th>dir_prev_bfnum</th>\n",
              "      <td>0.266065</td>\n",
              "      <td>1.000000</td>\n",
              "      <td>0.396616</td>\n",
              "      <td>0.369657</td>\n",
              "      <td>0.042491</td>\n",
              "      <td>0.293791</td>\n",
              "    </tr>\n",
              "    <tr>\n",
              "      <th>dir_prev_num</th>\n",
              "      <td>0.306727</td>\n",
              "      <td>0.396616</td>\n",
              "      <td>1.000000</td>\n",
              "      <td>0.450706</td>\n",
              "      <td>0.014006</td>\n",
              "      <td>0.259674</td>\n",
              "    </tr>\n",
              "    <tr>\n",
              "      <th>num_staff</th>\n",
              "      <td>0.623205</td>\n",
              "      <td>0.369657</td>\n",
              "      <td>0.450706</td>\n",
              "      <td>1.000000</td>\n",
              "      <td>0.077871</td>\n",
              "      <td>0.544265</td>\n",
              "    </tr>\n",
              "    <tr>\n",
              "      <th>num_actor</th>\n",
              "      <td>0.114153</td>\n",
              "      <td>0.042491</td>\n",
              "      <td>0.014006</td>\n",
              "      <td>0.077871</td>\n",
              "      <td>1.000000</td>\n",
              "      <td>0.111179</td>\n",
              "    </tr>\n",
              "    <tr>\n",
              "      <th>box_off_num</th>\n",
              "      <td>0.441452</td>\n",
              "      <td>0.293791</td>\n",
              "      <td>0.259674</td>\n",
              "      <td>0.544265</td>\n",
              "      <td>0.111179</td>\n",
              "      <td>1.000000</td>\n",
              "    </tr>\n",
              "  </tbody>\n",
              "</table>\n",
              "</div>"
            ],
            "text/plain": [
              "                    time  dir_prev_bfnum  dir_prev_num  num_staff  num_actor  \\\n",
              "time            1.000000        0.266065      0.306727   0.623205   0.114153   \n",
              "dir_prev_bfnum  0.266065        1.000000      0.396616   0.369657   0.042491   \n",
              "dir_prev_num    0.306727        0.396616      1.000000   0.450706   0.014006   \n",
              "num_staff       0.623205        0.369657      0.450706   1.000000   0.077871   \n",
              "num_actor       0.114153        0.042491      0.014006   0.077871   1.000000   \n",
              "box_off_num     0.441452        0.293791      0.259674   0.544265   0.111179   \n",
              "\n",
              "                box_off_num  \n",
              "time               0.441452  \n",
              "dir_prev_bfnum     0.293791  \n",
              "dir_prev_num       0.259674  \n",
              "num_staff          0.544265  \n",
              "num_actor          0.111179  \n",
              "box_off_num        1.000000  "
            ]
          },
          "execution_count": 19,
          "metadata": {},
          "output_type": "execute_result"
        }
      ],
      "source": [
        "train.corr()"
      ]
    },
    {
      "cell_type": "markdown",
      "id": "1afd7046",
      "metadata": {
        "id": "1afd7046"
      },
      "source": [
        "Title, distributor, release_time, director은 카디널리티가 너무 많기때문에 학습 변수에서 제외하도록 하겠습니다."
      ]
    },
    {
      "cell_type": "code",
      "execution_count": null,
      "id": "be2c2a55",
      "metadata": {
        "id": "be2c2a55"
      },
      "outputs": [],
      "source": [
        "features = 'time', 'dir_prev_bfnum'"
      ]
    },
    {
      "cell_type": "code",
      "execution_count": null,
      "id": "65e95450",
      "metadata": {
        "id": "65e95450",
        "outputId": "c6b7f1ef-68c0-4393-964b-7e7378447168"
      },
      "outputs": [
        {
          "data": {
            "text/plain": [
              "<seaborn.axisgrid.FacetGrid at 0x2062d2535e0>"
            ]
          },
          "execution_count": 21,
          "metadata": {},
          "output_type": "execute_result"
        },
        {
          "data": {
            "image/png": "[encoded data removed]",
            "text/plain": [
              "<Figure size 360x360 with 1 Axes>"
            ]
          },
          "metadata": {
            "needs_background": "light"
          },
          "output_type": "display_data"
        }
      ],
      "source": [
        "import seaborn as sns\n",
        "sns.displot(train['dir_prev_num'])"
      ]
    },
    {
      "cell_type": "markdown",
      "id": "f108b0fe",
      "metadata": {
        "id": "f108b0fe"
      },
      "source": [
        "600개의 영화중 절반정도가 해당 감독이 이 영화를 만들기 전 제작에 참여한 영화의 개수가 0개 라는 것을 알 수 있습니다."
      ]
    },
    {
      "cell_type": "code",
      "execution_count": null,
      "id": "8b868fa7",
      "metadata": {
        "id": "8b868fa7",
        "outputId": "87bdc8a4-6574-4d40-b95d-a41c736bffc6"
      },
      "outputs": [
        {
          "data": {
            "text/html": [
              "<div>\n",
              "<style scoped>\n",
              "    .dataframe tbody tr th:only-of-type {\n",
              "        vertical-align: middle;\n",
              "    }\n",
              "\n",
              "    .dataframe tbody tr th {\n",
              "        vertical-align: top;\n",
              "    }\n",
              "\n",
              "    .dataframe thead th {\n",
              "        text-align: right;\n",
              "    }\n",
              "</style>\n",
              "<table border=\"1\" class=\"dataframe\">\n",
              "  <thead>\n",
              "    <tr style=\"text-align: right;\">\n",
              "      <th></th>\n",
              "      <th>dir_prev_num</th>\n",
              "      <th>box_off_num</th>\n",
              "    </tr>\n",
              "  </thead>\n",
              "  <tbody>\n",
              "    <tr>\n",
              "      <th>0</th>\n",
              "      <td>5</td>\n",
              "      <td>3.340028e+05</td>\n",
              "    </tr>\n",
              "    <tr>\n",
              "      <th>1</th>\n",
              "      <td>0</td>\n",
              "      <td>3.492043e+05</td>\n",
              "    </tr>\n",
              "    <tr>\n",
              "      <th>2</th>\n",
              "      <td>1</td>\n",
              "      <td>6.561018e+05</td>\n",
              "    </tr>\n",
              "    <tr>\n",
              "      <th>3</th>\n",
              "      <td>3</td>\n",
              "      <td>1.388813e+06</td>\n",
              "    </tr>\n",
              "    <tr>\n",
              "      <th>4</th>\n",
              "      <td>2</td>\n",
              "      <td>1.414767e+06</td>\n",
              "    </tr>\n",
              "    <tr>\n",
              "      <th>5</th>\n",
              "      <td>4</td>\n",
              "      <td>2.362598e+06</td>\n",
              "    </tr>\n",
              "  </tbody>\n",
              "</table>\n",
              "</div>"
            ],
            "text/plain": [
              "   dir_prev_num   box_off_num\n",
              "0             5  3.340028e+05\n",
              "1             0  3.492043e+05\n",
              "2             1  6.561018e+05\n",
              "3             3  1.388813e+06\n",
              "4             2  1.414767e+06\n",
              "5             4  2.362598e+06"
            ]
          },
          "execution_count": 22,
          "metadata": {},
          "output_type": "execute_result"
        }
      ],
      "source": [
        "train_num = train[['box_off_num','dir_prev_num']].groupby('dir_prev_num').mean().sort_values('box_off_num').reset_index()\n",
        "train_num"
      ]
    },
    {
      "cell_type": "markdown",
      "id": "835bb850",
      "metadata": {
        "id": "835bb850"
      },
      "source": [
        "__해당 감독이 이 영화를 만들기 전 제작에 참여한 영화의 개수가 많을수록 평균적으로 관객수도 많다는 것을 알수 있습니다.__      \n",
        "이러한 점을 학습에 활용하면 보다 정확한 측정이 가능할 것이라고 추측했습니다.    \n",
        "해당 사실을 이용해서 __dir_exp__ (감독이 1개 이상의 영화를 촬영했는지 여부) 변수를 새로 생성해주도록 하겠습니다."
      ]
    },
    {
      "cell_type": "code",
      "execution_count": null,
      "id": "fff47e46",
      "metadata": {
        "id": "fff47e46",
        "outputId": "ece29c18-b592-4c34-b8a7-59ffd24f11ee"
      },
      "outputs": [
        {
          "data": {
            "text/plain": [
              "2"
            ]
          },
          "execution_count": 23,
          "metadata": {},
          "output_type": "execute_result"
        }
      ],
      "source": [
        "train['dir_exp'] = train['dir_prev_num'] >= 1\n",
        "train['dir_exp'].nunique()"
      ]
    },
    {
      "cell_type": "code",
      "execution_count": null,
      "id": "51688cc6",
      "metadata": {
        "id": "51688cc6",
        "outputId": "d1bc2842-a165-4412-e2fc-f3756e1181da"
      },
      "outputs": [
        {
          "data": {
            "text/plain": [
              "2"
            ]
          },
          "execution_count": 24,
          "metadata": {},
          "output_type": "execute_result"
        }
      ],
      "source": [
        "test['dir_exp'] = test['dir_prev_num'] >= 1\n",
        "test['dir_exp'].nunique()"
      ]
    },
    {
      "cell_type": "code",
      "execution_count": null,
      "id": "9500fcb8",
      "metadata": {
        "id": "9500fcb8",
        "outputId": "a77e1951-335a-4511-8e30-f519a3b29694"
      },
      "outputs": [
        {
          "data": {
            "text/plain": [
              "False    330\n",
              "True     270\n",
              "Name: dir_exp, dtype: int64"
            ]
          },
          "execution_count": 25,
          "metadata": {},
          "output_type": "execute_result"
        }
      ],
      "source": [
        "train['dir_exp'].value_counts()"
      ]
    },
    {
      "cell_type": "code",
      "execution_count": null,
      "id": "bf57683e",
      "metadata": {
        "id": "bf57683e",
        "outputId": "9cbe22e2-b93d-48c4-c41e-f5a21232cf84"
      },
      "outputs": [
        {
          "data": {
            "text/plain": [
              "False    136\n",
              "True     107\n",
              "Name: dir_exp, dtype: int64"
            ]
          },
          "execution_count": 26,
          "metadata": {},
          "output_type": "execute_result"
        }
      ],
      "source": [
        "test['dir_exp'].value_counts()"
      ]
    },
    {
      "cell_type": "code",
      "execution_count": null,
      "id": "d81c2210",
      "metadata": {
        "id": "d81c2210",
        "outputId": "1b4ec138-24f8-40b0-dd0e-9df9817770b0"
      },
      "outputs": [
        {
          "data": {
            "text/html": [
              "<div>\n",
              "<style scoped>\n",
              "    .dataframe tbody tr th:only-of-type {\n",
              "        vertical-align: middle;\n",
              "    }\n",
              "\n",
              "    .dataframe tbody tr th {\n",
              "        vertical-align: top;\n",
              "    }\n",
              "\n",
              "    .dataframe thead th {\n",
              "        text-align: right;\n",
              "    }\n",
              "</style>\n",
              "<table border=\"1\" class=\"dataframe\">\n",
              "  <thead>\n",
              "    <tr style=\"text-align: right;\">\n",
              "      <th></th>\n",
              "      <th>title</th>\n",
              "      <th>distributor</th>\n",
              "      <th>genre</th>\n",
              "      <th>release_time</th>\n",
              "      <th>time</th>\n",
              "      <th>screening_rat</th>\n",
              "      <th>director</th>\n",
              "      <th>dir_prev_bfnum</th>\n",
              "      <th>dir_prev_num</th>\n",
              "      <th>num_staff</th>\n",
              "      <th>num_actor</th>\n",
              "      <th>box_off_num</th>\n",
              "      <th>dir_exp</th>\n",
              "    </tr>\n",
              "  </thead>\n",
              "  <tbody>\n",
              "    <tr>\n",
              "      <th>0</th>\n",
              "      <td>개들의 전쟁</td>\n",
              "      <td>롯데엔터테인먼트</td>\n",
              "      <td>액션</td>\n",
              "      <td>2012-11-22</td>\n",
              "      <td>96</td>\n",
              "      <td>청소년 관람불가</td>\n",
              "      <td>조병옥</td>\n",
              "      <td>0.00</td>\n",
              "      <td>0</td>\n",
              "      <td>91</td>\n",
              "      <td>2</td>\n",
              "      <td>23398</td>\n",
              "      <td>False</td>\n",
              "    </tr>\n",
              "    <tr>\n",
              "      <th>1</th>\n",
              "      <td>내부자들</td>\n",
              "      <td>(주)쇼박스</td>\n",
              "      <td>느와르</td>\n",
              "      <td>2015-11-19</td>\n",
              "      <td>130</td>\n",
              "      <td>청소년 관람불가</td>\n",
              "      <td>우민호</td>\n",
              "      <td>1161602.50</td>\n",
              "      <td>2</td>\n",
              "      <td>387</td>\n",
              "      <td>3</td>\n",
              "      <td>7072501</td>\n",
              "      <td>True</td>\n",
              "    </tr>\n",
              "    <tr>\n",
              "      <th>2</th>\n",
              "      <td>은밀하게 위대하게</td>\n",
              "      <td>(주)쇼박스</td>\n",
              "      <td>액션</td>\n",
              "      <td>2013-06-05</td>\n",
              "      <td>123</td>\n",
              "      <td>15세 관람가</td>\n",
              "      <td>장철수</td>\n",
              "      <td>220775.25</td>\n",
              "      <td>4</td>\n",
              "      <td>343</td>\n",
              "      <td>4</td>\n",
              "      <td>6959083</td>\n",
              "      <td>True</td>\n",
              "    </tr>\n",
              "  </tbody>\n",
              "</table>\n",
              "</div>"
            ],
            "text/plain": [
              "       title distributor genre release_time  time screening_rat director  \\\n",
              "0     개들의 전쟁    롯데엔터테인먼트    액션   2012-11-22    96      청소년 관람불가      조병옥   \n",
              "1       내부자들      (주)쇼박스   느와르   2015-11-19   130      청소년 관람불가      우민호   \n",
              "2  은밀하게 위대하게      (주)쇼박스    액션   2013-06-05   123       15세 관람가      장철수   \n",
              "\n",
              "   dir_prev_bfnum  dir_prev_num  num_staff  num_actor  box_off_num  dir_exp  \n",
              "0            0.00             0         91          2        23398    False  \n",
              "1      1161602.50             2        387          3      7072501     True  \n",
              "2       220775.25             4        343          4      6959083     True  "
            ]
          },
          "execution_count": 27,
          "metadata": {},
          "output_type": "execute_result"
        }
      ],
      "source": [
        "train.head(3)"
      ]
    },
    {
      "cell_type": "markdown",
      "id": "19039447",
      "metadata": {
        "id": "19039447"
      },
      "source": [
        "이제 학습에 활용할 feature와 target을 지정해주도록 하겠습니다."
      ]
    },
    {
      "cell_type": "code",
      "execution_count": null,
      "id": "cde591ed",
      "metadata": {
        "id": "cde591ed"
      },
      "outputs": [],
      "source": [
        "features = ['time', 'dir_prev_num', 'genre', 'screening_rat', 'dir_prev_bfnum', 'num_staff', 'num_actor', 'dir_exp']\n",
        "target = ['box_off_num']"
      ]
    },
    {
      "cell_type": "markdown",
      "id": "453eaf2d",
      "metadata": {
        "id": "453eaf2d"
      },
      "source": [
        "genre와 screening_rat은 명목형 변수이지만 LabelEncoding을 활용하여 수치형 변수로 변환해주도록 하겠습니다."
      ]
    },
    {
      "cell_type": "code",
      "execution_count": null,
      "id": "c4726844",
      "metadata": {
        "id": "c4726844",
        "outputId": "3fb50ad5-cf08-400c-dbf5-24c4479ac9e8"
      },
      "outputs": [
        {
          "name": "stdout",
          "output_type": "stream",
          "text": [
            "Requirement already satisfied: scikit-learn==0.24.2 in c:\\users\\kjso3\\anaconda3\\lib\\site-packages (0.24.2)\n",
            "Requirement already satisfied: threadpoolctl>=2.0.0 in c:\\users\\kjso3\\anaconda3\\lib\\site-packages (from scikit-learn==0.24.2) (2.1.0)\n",
            "Requirement already satisfied: scipy>=0.19.1 in c:\\users\\kjso3\\anaconda3\\lib\\site-packages (from scikit-learn==0.24.2) (1.6.2)\n",
            "Requirement already satisfied: numpy>=1.13.3 in c:\\users\\kjso3\\anaconda3\\lib\\site-packages (from scikit-learn==0.24.2) (1.20.1)\n",
            "Requirement already satisfied: joblib>=0.11 in c:\\users\\kjso3\\anaconda3\\lib\\site-packages (from scikit-learn==0.24.2) (1.1.0)\n",
            "Requirement already satisfied: category_encoders in c:\\users\\kjso3\\anaconda3\\lib\\site-packages (2.5.0)\n",
            "Requirement already satisfied: patsy>=0.5.1 in c:\\users\\kjso3\\anaconda3\\lib\\site-packages (from category_encoders) (0.5.1)\n",
            "Requirement already satisfied: scikit-learn>=0.20.0 in c:\\users\\kjso3\\anaconda3\\lib\\site-packages (from category_encoders) (0.24.2)\n",
            "Requirement already satisfied: statsmodels>=0.9.0 in c:\\users\\kjso3\\anaconda3\\lib\\site-packages (from category_encoders) (0.12.2)\n",
            "Requirement already satisfied: numpy>=1.14.0 in c:\\users\\kjso3\\anaconda3\\lib\\site-packages (from category_encoders) (1.20.1)\n",
            "Requirement already satisfied: pandas>=1.0.5 in c:\\users\\kjso3\\anaconda3\\lib\\site-packages (from category_encoders) (1.2.4)\n",
            "Requirement already satisfied: scipy>=1.0.0 in c:\\users\\kjso3\\anaconda3\\lib\\site-packages (from category_encoders) (1.6.2)\n",
            "Requirement already satisfied: python-dateutil>=2.7.3 in c:\\users\\kjso3\\anaconda3\\lib\\site-packages (from pandas>=1.0.5->category_encoders) (2.8.1)\n",
            "Requirement already satisfied: pytz>=2017.3 in c:\\users\\kjso3\\anaconda3\\lib\\site-packages (from pandas>=1.0.5->category_encoders) (2021.1)\n",
            "Requirement already satisfied: six in c:\\users\\kjso3\\anaconda3\\lib\\site-packages (from patsy>=0.5.1->category_encoders) (1.15.0)\n",
            "Requirement already satisfied: joblib>=0.11 in c:\\users\\kjso3\\anaconda3\\lib\\site-packages (from scikit-learn>=0.20.0->category_encoders) (1.1.0)\n",
            "Requirement already satisfied: threadpoolctl>=2.0.0 in c:\\users\\kjso3\\anaconda3\\lib\\site-packages (from scikit-learn>=0.20.0->category_encoders) (2.1.0)\n"
          ]
        }
      ],
      "source": [
        "!pip install scikit-learn==0.24.2\n",
        "!pip install category_encoders"
      ]
    },
    {
      "cell_type": "code",
      "execution_count": null,
      "id": "79c21e22",
      "metadata": {
        "id": "79c21e22"
      },
      "outputs": [],
      "source": [
        "from sklearn import preprocessing"
      ]
    },
    {
      "cell_type": "code",
      "execution_count": null,
      "id": "8270bafa",
      "metadata": {
        "id": "8270bafa"
      },
      "outputs": [],
      "source": [
        "from sklearn.preprocessing import LabelEncoder"
      ]
    },
    {
      "cell_type": "code",
      "execution_count": null,
      "id": "27500d12",
      "metadata": {
        "id": "27500d12"
      },
      "outputs": [],
      "source": [
        "le = preprocessing.LabelEncoder()  #문자열 값을 전부 숫자로 변경해주는것\n",
        "train[\"genre\"] = le.fit_transform(train[\"genre\"]) #변경해주는것 학습\n",
        "train[\"screening_rat\"] = le.fit_transform(train[\"screening_rat\"])"
      ]
    },
    {
      "cell_type": "code",
      "execution_count": null,
      "id": "524e5680",
      "metadata": {
        "id": "524e5680",
        "outputId": "822501b7-359b-44fa-cff3-d345c5e5b4f7"
      },
      "outputs": [
        {
          "data": {
            "text/plain": [
              "0      10\n",
              "1       2\n",
              "2      10\n",
              "3      11\n",
              "4      11\n",
              "       ..\n",
              "595     4\n",
              "596     4\n",
              "597     1\n",
              "598     2\n",
              "599    10\n",
              "Name: genre, Length: 600, dtype: int32"
            ]
          },
          "execution_count": 33,
          "metadata": {},
          "output_type": "execute_result"
        }
      ],
      "source": [
        "train.genre  #장르 값들이 숫자로 변경"
      ]
    },
    {
      "cell_type": "code",
      "execution_count": null,
      "id": "81070f2f",
      "metadata": {
        "id": "81070f2f",
        "outputId": "c638c58b-46e4-4f13-bd19-b95fa75eccf1"
      },
      "outputs": [
        {
          "data": {
            "text/plain": [
              "0      3\n",
              "1      3\n",
              "2      1\n",
              "3      2\n",
              "4      1\n",
              "      ..\n",
              "595    3\n",
              "596    1\n",
              "597    3\n",
              "598    1\n",
              "599    1\n",
              "Name: screening_rat, Length: 600, dtype: int32"
            ]
          },
          "execution_count": 34,
          "metadata": {},
          "output_type": "execute_result"
        }
      ],
      "source": [
        "train.screening_rat"
      ]
    },
    {
      "cell_type": "code",
      "execution_count": null,
      "id": "927f70e2",
      "metadata": {
        "id": "927f70e2"
      },
      "outputs": [],
      "source": [
        "test[\"genre\"] = le.fit_transform(test[\"genre\"])"
      ]
    },
    {
      "cell_type": "code",
      "execution_count": null,
      "id": "dfc02036",
      "metadata": {
        "id": "dfc02036"
      },
      "outputs": [],
      "source": [
        "test[\"screening_rat\"] = le.fit_transform(test[\"screening_rat\"])"
      ]
    },
    {
      "cell_type": "code",
      "execution_count": null,
      "id": "7b7a7c69",
      "metadata": {
        "id": "7b7a7c69",
        "outputId": "17b2788b-5d0d-48f7-fd4a-c98cd264a29f"
      },
      "outputs": [
        {
          "data": {
            "text/plain": [
              "0       2\n",
              "1       5\n",
              "2       4\n",
              "3      10\n",
              "4       1\n",
              "       ..\n",
              "238     4\n",
              "239     3\n",
              "240     2\n",
              "241     4\n",
              "242     5\n",
              "Name: genre, Length: 243, dtype: int32"
            ]
          },
          "execution_count": 37,
          "metadata": {},
          "output_type": "execute_result"
        }
      ],
      "source": [
        "test.genre"
      ]
    },
    {
      "cell_type": "code",
      "execution_count": null,
      "id": "3c4162d9",
      "metadata": {
        "id": "3c4162d9",
        "outputId": "5cae6b45-5498-4fa9-e32f-fd7d20d8eb29"
      },
      "outputs": [
        {
          "data": {
            "text/plain": [
              "0      3\n",
              "1      0\n",
              "2      0\n",
              "3      1\n",
              "4      1\n",
              "      ..\n",
              "238    1\n",
              "239    0\n",
              "240    3\n",
              "241    3\n",
              "242    3\n",
              "Name: screening_rat, Length: 243, dtype: int32"
            ]
          },
          "execution_count": 38,
          "metadata": {},
          "output_type": "execute_result"
        }
      ],
      "source": [
        "test.screening_rat"
      ]
    },
    {
      "cell_type": "markdown",
      "id": "7fdc4e99",
      "metadata": {
        "id": "7fdc4e99"
      },
      "source": [
        "## Modeling"
      ]
    },
    {
      "cell_type": "markdown",
      "id": "2fc4f157",
      "metadata": {
        "id": "2fc4f157"
      },
      "source": [
        "학습에서는 레퍼런스 자료들을 참고한 결과, LightGBM과 XGboost가 성능이 좋았다는 평이 많아서\n",
        "해당 모델들을 사용하도록 하겠습니다."
      ]
    },
    {
      "cell_type": "markdown",
      "id": "039da1ed",
      "metadata": {
        "id": "039da1ed"
      },
      "source": [
        "### LightGBM"
      ]
    },
    {
      "cell_type": "markdown",
      "id": "cc67314e",
      "metadata": {
        "id": "cc67314e"
      },
      "source": [
        "부스팅 모델     \n",
        "기존 모델이 못 맞춘 문제에 가중치를 두어 지속적으로 학습을 이어나가게 함"
      ]
    },
    {
      "cell_type": "markdown",
      "id": "48177781",
      "metadata": {
        "id": "48177781"
      },
      "source": [
        "### XGboost"
      ]
    },
    {
      "cell_type": "markdown",
      "id": "2ce96d06",
      "metadata": {
        "id": "2ce96d06"
      },
      "source": [
        "LightGBM과 마찬가지로 부스팅 모델. gradien boostin 알고리즘의 단점을 보안하기 위해 나왔다.   \n",
        "__XGboost의 특징__\n",
        "- gbm보다 빠르다\n",
        "- 자동 가지치기를 통해 과적합이 잘 일어나지 않는다\n",
        "- 다른 알고리즘과 연계 활용성이 좋다\n",
        "- 다양한 커스텀 최적화 옵션을 제공한다. 유연성이 좋다\n"
      ]
    },
    {
      "cell_type": "code",
      "execution_count": null,
      "id": "40165aa6",
      "metadata": {
        "scrolled": true,
        "id": "40165aa6",
        "outputId": "66997770-e977-4f50-ee05-bbf091e22425"
      },
      "outputs": [
        {
          "name": "stdout",
          "output_type": "stream",
          "text": [
            "Requirement already satisfied: xgboost in c:\\users\\kjso3\\anaconda3\\lib\\site-packages (1.6.1)\n",
            "Requirement already satisfied: scipy in c:\\users\\kjso3\\anaconda3\\lib\\site-packages (from xgboost) (1.6.2)\n",
            "Requirement already satisfied: numpy in c:\\users\\kjso3\\anaconda3\\lib\\site-packages (from xgboost) (1.20.1)\n",
            "Note: you may need to restart the kernel to use updated packages.\n"
          ]
        }
      ],
      "source": [
        "pip install xgboost"
      ]
    },
    {
      "cell_type": "code",
      "execution_count": null,
      "id": "61054b5b",
      "metadata": {
        "id": "61054b5b",
        "outputId": "f5e69296-c110-4146-85b7-aa65c28e5e66"
      },
      "outputs": [
        {
          "name": "stdout",
          "output_type": "stream",
          "text": [
            "Requirement already satisfied: lightgbm in c:\\users\\kjso3\\anaconda3\\lib\\site-packages (3.3.2)\n",
            "Requirement already satisfied: numpy in c:\\users\\kjso3\\anaconda3\\lib\\site-packages (from lightgbm) (1.20.1)\n",
            "Requirement already satisfied: scipy in c:\\users\\kjso3\\anaconda3\\lib\\site-packages (from lightgbm) (1.6.2)\n",
            "Requirement already satisfied: wheel in c:\\users\\kjso3\\anaconda3\\lib\\site-packages (from lightgbm) (0.36.2)\n",
            "Requirement already satisfied: scikit-learn!=0.22.0 in c:\\users\\kjso3\\anaconda3\\lib\\site-packages (from lightgbm) (0.24.2)\n",
            "Requirement already satisfied: joblib>=0.11 in c:\\users\\kjso3\\anaconda3\\lib\\site-packages (from scikit-learn!=0.22.0->lightgbm) (1.1.0)\n",
            "Requirement already satisfied: threadpoolctl>=2.0.0 in c:\\users\\kjso3\\anaconda3\\lib\\site-packages (from scikit-learn!=0.22.0->lightgbm) (2.1.0)\n",
            "Note: you may need to restart the kernel to use updated packages.\n"
          ]
        }
      ],
      "source": [
        "pip install lightgbm"
      ]
    },
    {
      "cell_type": "code",
      "execution_count": null,
      "id": "45fb52f9",
      "metadata": {
        "id": "45fb52f9"
      },
      "outputs": [],
      "source": [
        "from sklearn.model_selection import KFold, cross_val_score, train_test_split\n",
        "from sklearn.pipeline import make_pipeline\n",
        "from sklearn.metrics import mean_squared_error\n",
        "import xgboost as xgb\n",
        "import lightgbm as lgb"
      ]
    },
    {
      "cell_type": "markdown",
      "id": "4e41f4a7",
      "metadata": {
        "id": "4e41f4a7"
      },
      "source": [
        "### K-fold 교차검증"
      ]
    },
    {
      "cell_type": "markdown",
      "id": "82af76af",
      "metadata": {
        "id": "82af76af"
      },
      "source": [
        "과대적합을 방지하고 모델 간 일반적인 성능을 비교하기 위해 사용"
      ]
    },
    {
      "cell_type": "code",
      "execution_count": null,
      "id": "57976958",
      "metadata": {
        "id": "57976958"
      },
      "outputs": [],
      "source": [
        "X_train = train[features]\n",
        "Y_train = train[target]\n",
        "X_test = test[features]"
      ]
    },
    {
      "cell_type": "code",
      "execution_count": null,
      "id": "a3a27a36",
      "metadata": {
        "id": "a3a27a36"
      },
      "outputs": [],
      "source": [
        "k_fold = KFold(n_splits = 5, shuffle=True, random_state = 42) "
      ]
    },
    {
      "cell_type": "code",
      "execution_count": null,
      "id": "77490a1c",
      "metadata": {
        "id": "77490a1c",
        "outputId": "f98281a4-94f3-4a29-f3dc-579c7f4d1c5e"
      },
      "outputs": [
        {
          "name": "stdout",
          "output_type": "stream",
          "text": [
            "480 120\n"
          ]
        }
      ],
      "source": [
        "# 600개에서 4:1의 비율로 train / test로 나누어짐\n",
        "for train_idx, val_idx in k_fold.split(X_train):\n",
        "    print(len(train_idx), len(val_idx))\n",
        "    break"
      ]
    },
    {
      "cell_type": "markdown",
      "id": "a62afb2c",
      "metadata": {
        "id": "a62afb2c"
      },
      "source": [
        "eval_set 평가기준/ early_stopping_rounds 어느 정도 시점이 되면 학습을 중단시켜주는것, 100번의 과정동안 더이상 유의미한 모델의 성능 증가(오차율)가 되지 않는다면 중지/ verbose 100번째 모델마다 출력값 산출"
      ]
    },
    {
      "cell_type": "markdown",
      "id": "2c9903d2",
      "metadata": {
        "id": "2c9903d2"
      },
      "source": [
        "### LigthGBM 모델 학습"
      ]
    },
    {
      "cell_type": "code",
      "execution_count": null,
      "id": "af932bd8",
      "metadata": {
        "id": "af932bd8",
        "outputId": "b67a678b-dd67-4e29-f8ae-bc2d9a17acef"
      },
      "outputs": [
        {
          "data": {
            "text/html": [
              "<div>\n",
              "<style scoped>\n",
              "    .dataframe tbody tr th:only-of-type {\n",
              "        vertical-align: middle;\n",
              "    }\n",
              "\n",
              "    .dataframe tbody tr th {\n",
              "        vertical-align: top;\n",
              "    }\n",
              "\n",
              "    .dataframe thead th {\n",
              "        text-align: right;\n",
              "    }\n",
              "</style>\n",
              "<table border=\"1\" class=\"dataframe\">\n",
              "  <thead>\n",
              "    <tr style=\"text-align: right;\">\n",
              "      <th></th>\n",
              "      <th>time</th>\n",
              "      <th>dir_prev_num</th>\n",
              "      <th>genre</th>\n",
              "      <th>screening_rat</th>\n",
              "      <th>dir_prev_bfnum</th>\n",
              "      <th>num_staff</th>\n",
              "      <th>num_actor</th>\n",
              "      <th>dir_exp</th>\n",
              "    </tr>\n",
              "  </thead>\n",
              "  <tbody>\n",
              "    <tr>\n",
              "      <th>0</th>\n",
              "      <td>96</td>\n",
              "      <td>0</td>\n",
              "      <td>10</td>\n",
              "      <td>3</td>\n",
              "      <td>0.00</td>\n",
              "      <td>91</td>\n",
              "      <td>2</td>\n",
              "      <td>False</td>\n",
              "    </tr>\n",
              "    <tr>\n",
              "      <th>1</th>\n",
              "      <td>130</td>\n",
              "      <td>2</td>\n",
              "      <td>2</td>\n",
              "      <td>3</td>\n",
              "      <td>1161602.50</td>\n",
              "      <td>387</td>\n",
              "      <td>3</td>\n",
              "      <td>True</td>\n",
              "    </tr>\n",
              "    <tr>\n",
              "      <th>2</th>\n",
              "      <td>123</td>\n",
              "      <td>4</td>\n",
              "      <td>10</td>\n",
              "      <td>1</td>\n",
              "      <td>220775.25</td>\n",
              "      <td>343</td>\n",
              "      <td>4</td>\n",
              "      <td>True</td>\n",
              "    </tr>\n",
              "  </tbody>\n",
              "</table>\n",
              "</div>"
            ],
            "text/plain": [
              "   time  dir_prev_num  genre  screening_rat  dir_prev_bfnum  num_staff  \\\n",
              "0    96             0     10              3            0.00         91   \n",
              "1   130             2      2              3      1161602.50        387   \n",
              "2   123             4     10              1       220775.25        343   \n",
              "\n",
              "   num_actor  dir_exp  \n",
              "0          2    False  \n",
              "1          3     True  \n",
              "2          4     True  "
            ]
          },
          "execution_count": 45,
          "metadata": {},
          "output_type": "execute_result"
        }
      ],
      "source": [
        "X_train.head(3)"
      ]
    },
    {
      "cell_type": "markdown",
      "id": "b420d1e1",
      "metadata": {
        "id": "b420d1e1"
      },
      "source": [
        "k-fold 교차검증을 통해 5개로 분할된 학습 결과를 models에 저장합니다"
      ]
    },
    {
      "cell_type": "code",
      "execution_count": null,
      "id": "08225ba0",
      "metadata": {
        "id": "08225ba0",
        "outputId": "79494243-7ba1-4507-b0d0-6f74e91515f1"
      },
      "outputs": [
        {
          "name": "stdout",
          "output_type": "stream",
          "text": [
            "[100]\tvalid_0's l2: 1.94898e+12\n",
            "[100]\tvalid_0's l2: 1.12928e+12\n",
            "[100]\tvalid_0's l2: 2.34143e+12\n",
            "[100]\tvalid_0's l2: 2.70532e+12\n",
            "[200]\tvalid_0's l2: 2.68141e+12\n",
            "[100]\tvalid_0's l2: 3.22814e+12\n"
          ]
        }
      ],
      "source": [
        "model = lgb.LGBMRegressor(random_state = 42, n_estimators=1000)\n",
        "models = [ ]\n",
        "for train_idx, val_idx in k_fold.split(X_train):\n",
        "    x_t = X_train.iloc[train_idx]\n",
        "    y_t = Y_train.iloc[train_idx]\n",
        "    x_val = X_train.iloc[val_idx]\n",
        "    y_val = Y_train.iloc[val_idx]\n",
        "    models.append(model.fit(x_t, y_t, eval_set=(x_val, y_val), early_stopping_rounds=100, verbose = 100))"
      ]
    },
    {
      "cell_type": "code",
      "execution_count": null,
      "id": "90276af7",
      "metadata": {
        "id": "90276af7",
        "outputId": "d8d12ff0-7c68-4306-c90e-4fc9c7b0bae4"
      },
      "outputs": [
        {
          "data": {
            "text/plain": [
              "[LGBMRegressor(n_estimators=1000, random_state=42),\n",
              " LGBMRegressor(n_estimators=1000, random_state=42),\n",
              " LGBMRegressor(n_estimators=1000, random_state=42),\n",
              " LGBMRegressor(n_estimators=1000, random_state=42),\n",
              " LGBMRegressor(n_estimators=1000, random_state=42)]"
            ]
          },
          "execution_count": 47,
          "metadata": {},
          "output_type": "execute_result"
        }
      ],
      "source": [
        "models"
      ]
    },
    {
      "cell_type": "markdown",
      "id": "5cd2864b",
      "metadata": {
        "id": "5cd2864b"
      },
      "source": [
        "k-fold 교차검증을 통해 5개로 분할된 pred를 preds에 저장합니다"
      ]
    },
    {
      "cell_type": "code",
      "execution_count": null,
      "id": "f714007e",
      "metadata": {
        "id": "f714007e",
        "outputId": "10e906ea-2e87-4ac2-948d-696712fe3556"
      },
      "outputs": [
        {
          "data": {
            "text/plain": [
              "5"
            ]
          },
          "execution_count": 48,
          "metadata": {},
          "output_type": "execute_result"
        }
      ],
      "source": [
        "preds = []\n",
        "for model in models:\n",
        "    preds.append(model.predict(X_test))\n",
        "len(preds)"
      ]
    },
    {
      "cell_type": "code",
      "execution_count": null,
      "id": "e4c2459a",
      "metadata": {
        "id": "e4c2459a"
      },
      "outputs": [],
      "source": [
        "kfoldLightGBM = submission.copy()"
      ]
    },
    {
      "cell_type": "code",
      "execution_count": null,
      "id": "1190152a",
      "metadata": {
        "id": "1190152a",
        "outputId": "e0c618e1-d79b-41b4-efad-3a10ce849b4f"
      },
      "outputs": [
        {
          "data": {
            "text/plain": [
              "[array([ 2.56629410e+06,  7.55919556e+05,  8.16788948e+05,  1.66914538e+06,\n",
              "         1.35982086e+06,  8.16046652e+04,  8.40486057e+04,  7.09833325e+04,\n",
              "         3.20264464e+04,  1.09156813e+06,  1.05110905e+06,  1.42125310e+06,\n",
              "         9.90764526e+05, -1.79922771e+04,  6.80917600e+05,  3.62767531e+06,\n",
              "        -7.70203286e+04,  2.99729969e+06,  3.68965036e+05,  4.01611978e+05,\n",
              "        -1.22705611e+05,  1.37366138e+05,  6.07341936e+05,  2.14688645e+05,\n",
              "         3.97673889e+04,  1.70308492e+06,  2.55187375e+04,  1.30681824e+06,\n",
              "         9.56731184e+04,  3.19099344e+05,  2.10685945e+06,  3.97451734e+04,\n",
              "         3.52346117e+05,  1.67535697e+06,  3.53908573e+04,  3.97673889e+04,\n",
              "         8.70300435e+04,  2.43802410e+04,  5.47312057e+04,  2.59445108e+04,\n",
              "         3.21772437e+05,  5.79709536e+04,  5.92683469e+04,  1.02212176e+06,\n",
              "         6.33179512e+05,  1.11832815e+06, -6.66165777e+04,  1.17469551e+05,\n",
              "         1.36203733e+06,  2.13928710e+04,  1.30720933e+04,  8.88599091e+05,\n",
              "         1.48193355e+05,  9.02704667e+05,  1.02136957e+06,  1.88389183e+05,\n",
              "         3.66463271e+05,  1.08979992e+06,  6.03130907e+05,  4.37624873e+06,\n",
              "         6.49054622e+05,  2.87089205e+06,  3.03907647e+05, -1.08059579e+05,\n",
              "         1.45451378e+05,  2.02611181e+04,  2.10877845e+06,  1.04465539e+05,\n",
              "         3.24433702e+05,  2.20969245e+05,  2.98463402e+06,  7.44223650e+05,\n",
              "         1.88614962e+04,  9.13347495e+05,  1.40050502e+05,  1.95902406e+04,\n",
              "         1.56451645e+06,  2.51204696e+05,  3.76872874e+05,  6.61344919e+04,\n",
              "         2.43027371e+05,  3.34615738e+06, -1.87278266e+04,  3.19286068e+06,\n",
              "         1.90845628e+04,  3.21303483e+06,  1.62490746e+05,  7.28277241e+04,\n",
              "         6.64421551e+04,  3.57667061e+05,  2.62830719e+04,  9.25953831e+04,\n",
              "         4.10443514e+05,  1.61726866e+06,  5.26040717e+04,  5.55729420e+05,\n",
              "         1.23380178e+05,  3.91228453e+05,  5.05216608e+04,  3.89348082e+05,\n",
              "         1.40687482e+06,  1.70168223e+06,  3.83352900e+04,  2.68684749e+04,\n",
              "         4.33570255e+05,  1.68841424e+05,  3.58053603e+06,  1.12804635e+04,\n",
              "         2.88038312e+06,  3.16934182e+04,  4.49576642e+04,  2.71811002e+06,\n",
              "         1.86772218e+06,  3.91228453e+05,  8.99637367e+03,  8.28920009e+05,\n",
              "         8.71410843e+04,  2.70144772e+06,  1.99148793e+05,  6.64457345e+03,\n",
              "         4.86823982e+04,  4.91157494e+05,  1.12972881e+06,  2.71326086e+04,\n",
              "         6.78586209e+04,  2.29635340e+04,  2.35248125e+04,  8.51347611e+04,\n",
              "         5.84255002e+05,  1.12286801e+05,  1.88614962e+04,  8.51109181e+05,\n",
              "        -7.73981590e+02,  2.41813150e+04,  1.26617660e+06,  4.30531550e+06,\n",
              "         3.28108345e+03,  7.02414048e+05,  2.11576631e+05,  1.68278493e+04,\n",
              "         1.60333595e+04,  3.23074630e+06,  4.98126647e+06,  3.92148903e+05,\n",
              "         3.73147403e+04,  1.45054515e+06,  2.76940431e+04,  1.33601538e+05,\n",
              "         2.96718623e+06,  8.75057579e+05,  1.39247021e+06,  4.75164979e+04,\n",
              "         3.44135609e+04,  3.30736301e+05, -4.24678773e+04,  9.08264439e+05,\n",
              "         3.17116456e+04,  1.54760236e+05,  2.23361597e+06,  2.28137227e+06,\n",
              "         2.16555410e+05,  1.24805611e+06,  2.88108694e+05,  8.74580817e+05,\n",
              "         2.03825615e+04,  1.32303732e+05,  2.08240423e+06,  5.32511031e+04,\n",
              "         5.59359299e+04,  1.14523080e+05, -6.37234541e+04,  3.86286509e+04,\n",
              "         7.53920904e+04,  4.60759162e+04,  7.14576609e+05,  3.61121507e+05,\n",
              "         3.75235098e+04,  3.23679889e+04,  4.35990548e+06,  2.94629837e+06,\n",
              "         4.72081229e+04,  3.38576691e+03,  6.00779863e+04,  5.10614860e+05,\n",
              "         2.05105145e+06,  4.41423695e+04,  2.22632738e+04,  4.76242565e+04,\n",
              "        -1.22785952e+04,  4.32402614e+06,  8.42067042e+04,  1.65722474e+04,\n",
              "         2.18482904e+04,  3.92651939e+04,  3.38576691e+03,  1.29702236e+06,\n",
              "         1.32446502e+05,  8.94455478e+05,  1.01638461e+05,  1.13792973e+06,\n",
              "         3.92478468e+05,  9.16278514e+04,  1.20073468e+05,  6.40410142e+05,\n",
              "         3.41458240e+05,  4.40495829e+05,  2.59507993e+06,  6.89334519e+05,\n",
              "         5.74900202e+04,  1.77201123e+06,  6.33873892e+05,  2.12285658e+06,\n",
              "         4.51226297e+06,  1.08273548e+06,  5.75740050e+04,  1.86745316e+04,\n",
              "         1.07438419e+06,  4.14751338e+04,  1.78917727e+04,  5.27749653e+05,\n",
              "         4.25131904e+05,  3.89011400e+06,  4.19217208e+05,  1.52225160e+05,\n",
              "         5.67107549e+05,  4.81386612e+05, -7.05931849e+03,  2.72226099e+06,\n",
              "         1.21689531e+05,  3.52002649e+06, -8.42649888e+03,  8.79974226e+05,\n",
              "         3.37459169e+05,  2.56575551e+03,  4.05939515e+04,  2.54588400e+05,\n",
              "         2.10213928e+05,  2.35524243e+04, -9.62320820e+03,  2.57781525e+04,\n",
              "         8.24149650e+05, -1.62498756e+05,  7.67247192e+03]),\n",
              " array([ 2.56629410e+06,  7.55919556e+05,  8.16788948e+05,  1.66914538e+06,\n",
              "         1.35982086e+06,  8.16046652e+04,  8.40486057e+04,  7.09833325e+04,\n",
              "         3.20264464e+04,  1.09156813e+06,  1.05110905e+06,  1.42125310e+06,\n",
              "         9.90764526e+05, -1.79922771e+04,  6.80917600e+05,  3.62767531e+06,\n",
              "        -7.70203286e+04,  2.99729969e+06,  3.68965036e+05,  4.01611978e+05,\n",
              "        -1.22705611e+05,  1.37366138e+05,  6.07341936e+05,  2.14688645e+05,\n",
              "         3.97673889e+04,  1.70308492e+06,  2.55187375e+04,  1.30681824e+06,\n",
              "         9.56731184e+04,  3.19099344e+05,  2.10685945e+06,  3.97451734e+04,\n",
              "         3.52346117e+05,  1.67535697e+06,  3.53908573e+04,  3.97673889e+04,\n",
              "         8.70300435e+04,  2.43802410e+04,  5.47312057e+04,  2.59445108e+04,\n",
              "         3.21772437e+05,  5.79709536e+04,  5.92683469e+04,  1.02212176e+06,\n",
              "         6.33179512e+05,  1.11832815e+06, -6.66165777e+04,  1.17469551e+05,\n",
              "         1.36203733e+06,  2.13928710e+04,  1.30720933e+04,  8.88599091e+05,\n",
              "         1.48193355e+05,  9.02704667e+05,  1.02136957e+06,  1.88389183e+05,\n",
              "         3.66463271e+05,  1.08979992e+06,  6.03130907e+05,  4.37624873e+06,\n",
              "         6.49054622e+05,  2.87089205e+06,  3.03907647e+05, -1.08059579e+05,\n",
              "         1.45451378e+05,  2.02611181e+04,  2.10877845e+06,  1.04465539e+05,\n",
              "         3.24433702e+05,  2.20969245e+05,  2.98463402e+06,  7.44223650e+05,\n",
              "         1.88614962e+04,  9.13347495e+05,  1.40050502e+05,  1.95902406e+04,\n",
              "         1.56451645e+06,  2.51204696e+05,  3.76872874e+05,  6.61344919e+04,\n",
              "         2.43027371e+05,  3.34615738e+06, -1.87278266e+04,  3.19286068e+06,\n",
              "         1.90845628e+04,  3.21303483e+06,  1.62490746e+05,  7.28277241e+04,\n",
              "         6.64421551e+04,  3.57667061e+05,  2.62830719e+04,  9.25953831e+04,\n",
              "         4.10443514e+05,  1.61726866e+06,  5.26040717e+04,  5.55729420e+05,\n",
              "         1.23380178e+05,  3.91228453e+05,  5.05216608e+04,  3.89348082e+05,\n",
              "         1.40687482e+06,  1.70168223e+06,  3.83352900e+04,  2.68684749e+04,\n",
              "         4.33570255e+05,  1.68841424e+05,  3.58053603e+06,  1.12804635e+04,\n",
              "         2.88038312e+06,  3.16934182e+04,  4.49576642e+04,  2.71811002e+06,\n",
              "         1.86772218e+06,  3.91228453e+05,  8.99637367e+03,  8.28920009e+05,\n",
              "         8.71410843e+04,  2.70144772e+06,  1.99148793e+05,  6.64457345e+03,\n",
              "         4.86823982e+04,  4.91157494e+05,  1.12972881e+06,  2.71326086e+04,\n",
              "         6.78586209e+04,  2.29635340e+04,  2.35248125e+04,  8.51347611e+04,\n",
              "         5.84255002e+05,  1.12286801e+05,  1.88614962e+04,  8.51109181e+05,\n",
              "        -7.73981590e+02,  2.41813150e+04,  1.26617660e+06,  4.30531550e+06,\n",
              "         3.28108345e+03,  7.02414048e+05,  2.11576631e+05,  1.68278493e+04,\n",
              "         1.60333595e+04,  3.23074630e+06,  4.98126647e+06,  3.92148903e+05,\n",
              "         3.73147403e+04,  1.45054515e+06,  2.76940431e+04,  1.33601538e+05,\n",
              "         2.96718623e+06,  8.75057579e+05,  1.39247021e+06,  4.75164979e+04,\n",
              "         3.44135609e+04,  3.30736301e+05, -4.24678773e+04,  9.08264439e+05,\n",
              "         3.17116456e+04,  1.54760236e+05,  2.23361597e+06,  2.28137227e+06,\n",
              "         2.16555410e+05,  1.24805611e+06,  2.88108694e+05,  8.74580817e+05,\n",
              "         2.03825615e+04,  1.32303732e+05,  2.08240423e+06,  5.32511031e+04,\n",
              "         5.59359299e+04,  1.14523080e+05, -6.37234541e+04,  3.86286509e+04,\n",
              "         7.53920904e+04,  4.60759162e+04,  7.14576609e+05,  3.61121507e+05,\n",
              "         3.75235098e+04,  3.23679889e+04,  4.35990548e+06,  2.94629837e+06,\n",
              "         4.72081229e+04,  3.38576691e+03,  6.00779863e+04,  5.10614860e+05,\n",
              "         2.05105145e+06,  4.41423695e+04,  2.22632738e+04,  4.76242565e+04,\n",
              "        -1.22785952e+04,  4.32402614e+06,  8.42067042e+04,  1.65722474e+04,\n",
              "         2.18482904e+04,  3.92651939e+04,  3.38576691e+03,  1.29702236e+06,\n",
              "         1.32446502e+05,  8.94455478e+05,  1.01638461e+05,  1.13792973e+06,\n",
              "         3.92478468e+05,  9.16278514e+04,  1.20073468e+05,  6.40410142e+05,\n",
              "         3.41458240e+05,  4.40495829e+05,  2.59507993e+06,  6.89334519e+05,\n",
              "         5.74900202e+04,  1.77201123e+06,  6.33873892e+05,  2.12285658e+06,\n",
              "         4.51226297e+06,  1.08273548e+06,  5.75740050e+04,  1.86745316e+04,\n",
              "         1.07438419e+06,  4.14751338e+04,  1.78917727e+04,  5.27749653e+05,\n",
              "         4.25131904e+05,  3.89011400e+06,  4.19217208e+05,  1.52225160e+05,\n",
              "         5.67107549e+05,  4.81386612e+05, -7.05931849e+03,  2.72226099e+06,\n",
              "         1.21689531e+05,  3.52002649e+06, -8.42649888e+03,  8.79974226e+05,\n",
              "         3.37459169e+05,  2.56575551e+03,  4.05939515e+04,  2.54588400e+05,\n",
              "         2.10213928e+05,  2.35524243e+04, -9.62320820e+03,  2.57781525e+04,\n",
              "         8.24149650e+05, -1.62498756e+05,  7.67247192e+03]),\n",
              " array([ 2.56629410e+06,  7.55919556e+05,  8.16788948e+05,  1.66914538e+06,\n",
              "         1.35982086e+06,  8.16046652e+04,  8.40486057e+04,  7.09833325e+04,\n",
              "         3.20264464e+04,  1.09156813e+06,  1.05110905e+06,  1.42125310e+06,\n",
              "         9.90764526e+05, -1.79922771e+04,  6.80917600e+05,  3.62767531e+06,\n",
              "        -7.70203286e+04,  2.99729969e+06,  3.68965036e+05,  4.01611978e+05,\n",
              "        -1.22705611e+05,  1.37366138e+05,  6.07341936e+05,  2.14688645e+05,\n",
              "         3.97673889e+04,  1.70308492e+06,  2.55187375e+04,  1.30681824e+06,\n",
              "         9.56731184e+04,  3.19099344e+05,  2.10685945e+06,  3.97451734e+04,\n",
              "         3.52346117e+05,  1.67535697e+06,  3.53908573e+04,  3.97673889e+04,\n",
              "         8.70300435e+04,  2.43802410e+04,  5.47312057e+04,  2.59445108e+04,\n",
              "         3.21772437e+05,  5.79709536e+04,  5.92683469e+04,  1.02212176e+06,\n",
              "         6.33179512e+05,  1.11832815e+06, -6.66165777e+04,  1.17469551e+05,\n",
              "         1.36203733e+06,  2.13928710e+04,  1.30720933e+04,  8.88599091e+05,\n",
              "         1.48193355e+05,  9.02704667e+05,  1.02136957e+06,  1.88389183e+05,\n",
              "         3.66463271e+05,  1.08979992e+06,  6.03130907e+05,  4.37624873e+06,\n",
              "         6.49054622e+05,  2.87089205e+06,  3.03907647e+05, -1.08059579e+05,\n",
              "         1.45451378e+05,  2.02611181e+04,  2.10877845e+06,  1.04465539e+05,\n",
              "         3.24433702e+05,  2.20969245e+05,  2.98463402e+06,  7.44223650e+05,\n",
              "         1.88614962e+04,  9.13347495e+05,  1.40050502e+05,  1.95902406e+04,\n",
              "         1.56451645e+06,  2.51204696e+05,  3.76872874e+05,  6.61344919e+04,\n",
              "         2.43027371e+05,  3.34615738e+06, -1.87278266e+04,  3.19286068e+06,\n",
              "         1.90845628e+04,  3.21303483e+06,  1.62490746e+05,  7.28277241e+04,\n",
              "         6.64421551e+04,  3.57667061e+05,  2.62830719e+04,  9.25953831e+04,\n",
              "         4.10443514e+05,  1.61726866e+06,  5.26040717e+04,  5.55729420e+05,\n",
              "         1.23380178e+05,  3.91228453e+05,  5.05216608e+04,  3.89348082e+05,\n",
              "         1.40687482e+06,  1.70168223e+06,  3.83352900e+04,  2.68684749e+04,\n",
              "         4.33570255e+05,  1.68841424e+05,  3.58053603e+06,  1.12804635e+04,\n",
              "         2.88038312e+06,  3.16934182e+04,  4.49576642e+04,  2.71811002e+06,\n",
              "         1.86772218e+06,  3.91228453e+05,  8.99637367e+03,  8.28920009e+05,\n",
              "         8.71410843e+04,  2.70144772e+06,  1.99148793e+05,  6.64457345e+03,\n",
              "         4.86823982e+04,  4.91157494e+05,  1.12972881e+06,  2.71326086e+04,\n",
              "         6.78586209e+04,  2.29635340e+04,  2.35248125e+04,  8.51347611e+04,\n",
              "         5.84255002e+05,  1.12286801e+05,  1.88614962e+04,  8.51109181e+05,\n",
              "        -7.73981590e+02,  2.41813150e+04,  1.26617660e+06,  4.30531550e+06,\n",
              "         3.28108345e+03,  7.02414048e+05,  2.11576631e+05,  1.68278493e+04,\n",
              "         1.60333595e+04,  3.23074630e+06,  4.98126647e+06,  3.92148903e+05,\n",
              "         3.73147403e+04,  1.45054515e+06,  2.76940431e+04,  1.33601538e+05,\n",
              "         2.96718623e+06,  8.75057579e+05,  1.39247021e+06,  4.75164979e+04,\n",
              "         3.44135609e+04,  3.30736301e+05, -4.24678773e+04,  9.08264439e+05,\n",
              "         3.17116456e+04,  1.54760236e+05,  2.23361597e+06,  2.28137227e+06,\n",
              "         2.16555410e+05,  1.24805611e+06,  2.88108694e+05,  8.74580817e+05,\n",
              "         2.03825615e+04,  1.32303732e+05,  2.08240423e+06,  5.32511031e+04,\n",
              "         5.59359299e+04,  1.14523080e+05, -6.37234541e+04,  3.86286509e+04,\n",
              "         7.53920904e+04,  4.60759162e+04,  7.14576609e+05,  3.61121507e+05,\n",
              "         3.75235098e+04,  3.23679889e+04,  4.35990548e+06,  2.94629837e+06,\n",
              "         4.72081229e+04,  3.38576691e+03,  6.00779863e+04,  5.10614860e+05,\n",
              "         2.05105145e+06,  4.41423695e+04,  2.22632738e+04,  4.76242565e+04,\n",
              "        -1.22785952e+04,  4.32402614e+06,  8.42067042e+04,  1.65722474e+04,\n",
              "         2.18482904e+04,  3.92651939e+04,  3.38576691e+03,  1.29702236e+06,\n",
              "         1.32446502e+05,  8.94455478e+05,  1.01638461e+05,  1.13792973e+06,\n",
              "         3.92478468e+05,  9.16278514e+04,  1.20073468e+05,  6.40410142e+05,\n",
              "         3.41458240e+05,  4.40495829e+05,  2.59507993e+06,  6.89334519e+05,\n",
              "         5.74900202e+04,  1.77201123e+06,  6.33873892e+05,  2.12285658e+06,\n",
              "         4.51226297e+06,  1.08273548e+06,  5.75740050e+04,  1.86745316e+04,\n",
              "         1.07438419e+06,  4.14751338e+04,  1.78917727e+04,  5.27749653e+05,\n",
              "         4.25131904e+05,  3.89011400e+06,  4.19217208e+05,  1.52225160e+05,\n",
              "         5.67107549e+05,  4.81386612e+05, -7.05931849e+03,  2.72226099e+06,\n",
              "         1.21689531e+05,  3.52002649e+06, -8.42649888e+03,  8.79974226e+05,\n",
              "         3.37459169e+05,  2.56575551e+03,  4.05939515e+04,  2.54588400e+05,\n",
              "         2.10213928e+05,  2.35524243e+04, -9.62320820e+03,  2.57781525e+04,\n",
              "         8.24149650e+05, -1.62498756e+05,  7.67247192e+03]),\n",
              " array([ 2.56629410e+06,  7.55919556e+05,  8.16788948e+05,  1.66914538e+06,\n",
              "         1.35982086e+06,  8.16046652e+04,  8.40486057e+04,  7.09833325e+04,\n",
              "         3.20264464e+04,  1.09156813e+06,  1.05110905e+06,  1.42125310e+06,\n",
              "         9.90764526e+05, -1.79922771e+04,  6.80917600e+05,  3.62767531e+06,\n",
              "        -7.70203286e+04,  2.99729969e+06,  3.68965036e+05,  4.01611978e+05,\n",
              "        -1.22705611e+05,  1.37366138e+05,  6.07341936e+05,  2.14688645e+05,\n",
              "         3.97673889e+04,  1.70308492e+06,  2.55187375e+04,  1.30681824e+06,\n",
              "         9.56731184e+04,  3.19099344e+05,  2.10685945e+06,  3.97451734e+04,\n",
              "         3.52346117e+05,  1.67535697e+06,  3.53908573e+04,  3.97673889e+04,\n",
              "         8.70300435e+04,  2.43802410e+04,  5.47312057e+04,  2.59445108e+04,\n",
              "         3.21772437e+05,  5.79709536e+04,  5.92683469e+04,  1.02212176e+06,\n",
              "         6.33179512e+05,  1.11832815e+06, -6.66165777e+04,  1.17469551e+05,\n",
              "         1.36203733e+06,  2.13928710e+04,  1.30720933e+04,  8.88599091e+05,\n",
              "         1.48193355e+05,  9.02704667e+05,  1.02136957e+06,  1.88389183e+05,\n",
              "         3.66463271e+05,  1.08979992e+06,  6.03130907e+05,  4.37624873e+06,\n",
              "         6.49054622e+05,  2.87089205e+06,  3.03907647e+05, -1.08059579e+05,\n",
              "         1.45451378e+05,  2.02611181e+04,  2.10877845e+06,  1.04465539e+05,\n",
              "         3.24433702e+05,  2.20969245e+05,  2.98463402e+06,  7.44223650e+05,\n",
              "         1.88614962e+04,  9.13347495e+05,  1.40050502e+05,  1.95902406e+04,\n",
              "         1.56451645e+06,  2.51204696e+05,  3.76872874e+05,  6.61344919e+04,\n",
              "         2.43027371e+05,  3.34615738e+06, -1.87278266e+04,  3.19286068e+06,\n",
              "         1.90845628e+04,  3.21303483e+06,  1.62490746e+05,  7.28277241e+04,\n",
              "         6.64421551e+04,  3.57667061e+05,  2.62830719e+04,  9.25953831e+04,\n",
              "         4.10443514e+05,  1.61726866e+06,  5.26040717e+04,  5.55729420e+05,\n",
              "         1.23380178e+05,  3.91228453e+05,  5.05216608e+04,  3.89348082e+05,\n",
              "         1.40687482e+06,  1.70168223e+06,  3.83352900e+04,  2.68684749e+04,\n",
              "         4.33570255e+05,  1.68841424e+05,  3.58053603e+06,  1.12804635e+04,\n",
              "         2.88038312e+06,  3.16934182e+04,  4.49576642e+04,  2.71811002e+06,\n",
              "         1.86772218e+06,  3.91228453e+05,  8.99637367e+03,  8.28920009e+05,\n",
              "         8.71410843e+04,  2.70144772e+06,  1.99148793e+05,  6.64457345e+03,\n",
              "         4.86823982e+04,  4.91157494e+05,  1.12972881e+06,  2.71326086e+04,\n",
              "         6.78586209e+04,  2.29635340e+04,  2.35248125e+04,  8.51347611e+04,\n",
              "         5.84255002e+05,  1.12286801e+05,  1.88614962e+04,  8.51109181e+05,\n",
              "        -7.73981590e+02,  2.41813150e+04,  1.26617660e+06,  4.30531550e+06,\n",
              "         3.28108345e+03,  7.02414048e+05,  2.11576631e+05,  1.68278493e+04,\n",
              "         1.60333595e+04,  3.23074630e+06,  4.98126647e+06,  3.92148903e+05,\n",
              "         3.73147403e+04,  1.45054515e+06,  2.76940431e+04,  1.33601538e+05,\n",
              "         2.96718623e+06,  8.75057579e+05,  1.39247021e+06,  4.75164979e+04,\n",
              "         3.44135609e+04,  3.30736301e+05, -4.24678773e+04,  9.08264439e+05,\n",
              "         3.17116456e+04,  1.54760236e+05,  2.23361597e+06,  2.28137227e+06,\n",
              "         2.16555410e+05,  1.24805611e+06,  2.88108694e+05,  8.74580817e+05,\n",
              "         2.03825615e+04,  1.32303732e+05,  2.08240423e+06,  5.32511031e+04,\n",
              "         5.59359299e+04,  1.14523080e+05, -6.37234541e+04,  3.86286509e+04,\n",
              "         7.53920904e+04,  4.60759162e+04,  7.14576609e+05,  3.61121507e+05,\n",
              "         3.75235098e+04,  3.23679889e+04,  4.35990548e+06,  2.94629837e+06,\n",
              "         4.72081229e+04,  3.38576691e+03,  6.00779863e+04,  5.10614860e+05,\n",
              "         2.05105145e+06,  4.41423695e+04,  2.22632738e+04,  4.76242565e+04,\n",
              "        -1.22785952e+04,  4.32402614e+06,  8.42067042e+04,  1.65722474e+04,\n",
              "         2.18482904e+04,  3.92651939e+04,  3.38576691e+03,  1.29702236e+06,\n",
              "         1.32446502e+05,  8.94455478e+05,  1.01638461e+05,  1.13792973e+06,\n",
              "         3.92478468e+05,  9.16278514e+04,  1.20073468e+05,  6.40410142e+05,\n",
              "         3.41458240e+05,  4.40495829e+05,  2.59507993e+06,  6.89334519e+05,\n",
              "         5.74900202e+04,  1.77201123e+06,  6.33873892e+05,  2.12285658e+06,\n",
              "         4.51226297e+06,  1.08273548e+06,  5.75740050e+04,  1.86745316e+04,\n",
              "         1.07438419e+06,  4.14751338e+04,  1.78917727e+04,  5.27749653e+05,\n",
              "         4.25131904e+05,  3.89011400e+06,  4.19217208e+05,  1.52225160e+05,\n",
              "         5.67107549e+05,  4.81386612e+05, -7.05931849e+03,  2.72226099e+06,\n",
              "         1.21689531e+05,  3.52002649e+06, -8.42649888e+03,  8.79974226e+05,\n",
              "         3.37459169e+05,  2.56575551e+03,  4.05939515e+04,  2.54588400e+05,\n",
              "         2.10213928e+05,  2.35524243e+04, -9.62320820e+03,  2.57781525e+04,\n",
              "         8.24149650e+05, -1.62498756e+05,  7.67247192e+03]),\n",
              " array([ 2.56629410e+06,  7.55919556e+05,  8.16788948e+05,  1.66914538e+06,\n",
              "         1.35982086e+06,  8.16046652e+04,  8.40486057e+04,  7.09833325e+04,\n",
              "         3.20264464e+04,  1.09156813e+06,  1.05110905e+06,  1.42125310e+06,\n",
              "         9.90764526e+05, -1.79922771e+04,  6.80917600e+05,  3.62767531e+06,\n",
              "        -7.70203286e+04,  2.99729969e+06,  3.68965036e+05,  4.01611978e+05,\n",
              "        -1.22705611e+05,  1.37366138e+05,  6.07341936e+05,  2.14688645e+05,\n",
              "         3.97673889e+04,  1.70308492e+06,  2.55187375e+04,  1.30681824e+06,\n",
              "         9.56731184e+04,  3.19099344e+05,  2.10685945e+06,  3.97451734e+04,\n",
              "         3.52346117e+05,  1.67535697e+06,  3.53908573e+04,  3.97673889e+04,\n",
              "         8.70300435e+04,  2.43802410e+04,  5.47312057e+04,  2.59445108e+04,\n",
              "         3.21772437e+05,  5.79709536e+04,  5.92683469e+04,  1.02212176e+06,\n",
              "         6.33179512e+05,  1.11832815e+06, -6.66165777e+04,  1.17469551e+05,\n",
              "         1.36203733e+06,  2.13928710e+04,  1.30720933e+04,  8.88599091e+05,\n",
              "         1.48193355e+05,  9.02704667e+05,  1.02136957e+06,  1.88389183e+05,\n",
              "         3.66463271e+05,  1.08979992e+06,  6.03130907e+05,  4.37624873e+06,\n",
              "         6.49054622e+05,  2.87089205e+06,  3.03907647e+05, -1.08059579e+05,\n",
              "         1.45451378e+05,  2.02611181e+04,  2.10877845e+06,  1.04465539e+05,\n",
              "         3.24433702e+05,  2.20969245e+05,  2.98463402e+06,  7.44223650e+05,\n",
              "         1.88614962e+04,  9.13347495e+05,  1.40050502e+05,  1.95902406e+04,\n",
              "         1.56451645e+06,  2.51204696e+05,  3.76872874e+05,  6.61344919e+04,\n",
              "         2.43027371e+05,  3.34615738e+06, -1.87278266e+04,  3.19286068e+06,\n",
              "         1.90845628e+04,  3.21303483e+06,  1.62490746e+05,  7.28277241e+04,\n",
              "         6.64421551e+04,  3.57667061e+05,  2.62830719e+04,  9.25953831e+04,\n",
              "         4.10443514e+05,  1.61726866e+06,  5.26040717e+04,  5.55729420e+05,\n",
              "         1.23380178e+05,  3.91228453e+05,  5.05216608e+04,  3.89348082e+05,\n",
              "         1.40687482e+06,  1.70168223e+06,  3.83352900e+04,  2.68684749e+04,\n",
              "         4.33570255e+05,  1.68841424e+05,  3.58053603e+06,  1.12804635e+04,\n",
              "         2.88038312e+06,  3.16934182e+04,  4.49576642e+04,  2.71811002e+06,\n",
              "         1.86772218e+06,  3.91228453e+05,  8.99637367e+03,  8.28920009e+05,\n",
              "         8.71410843e+04,  2.70144772e+06,  1.99148793e+05,  6.64457345e+03,\n",
              "         4.86823982e+04,  4.91157494e+05,  1.12972881e+06,  2.71326086e+04,\n",
              "         6.78586209e+04,  2.29635340e+04,  2.35248125e+04,  8.51347611e+04,\n",
              "         5.84255002e+05,  1.12286801e+05,  1.88614962e+04,  8.51109181e+05,\n",
              "        -7.73981590e+02,  2.41813150e+04,  1.26617660e+06,  4.30531550e+06,\n",
              "         3.28108345e+03,  7.02414048e+05,  2.11576631e+05,  1.68278493e+04,\n",
              "         1.60333595e+04,  3.23074630e+06,  4.98126647e+06,  3.92148903e+05,\n",
              "         3.73147403e+04,  1.45054515e+06,  2.76940431e+04,  1.33601538e+05,\n",
              "         2.96718623e+06,  8.75057579e+05,  1.39247021e+06,  4.75164979e+04,\n",
              "         3.44135609e+04,  3.30736301e+05, -4.24678773e+04,  9.08264439e+05,\n",
              "         3.17116456e+04,  1.54760236e+05,  2.23361597e+06,  2.28137227e+06,\n",
              "         2.16555410e+05,  1.24805611e+06,  2.88108694e+05,  8.74580817e+05,\n",
              "         2.03825615e+04,  1.32303732e+05,  2.08240423e+06,  5.32511031e+04,\n",
              "         5.59359299e+04,  1.14523080e+05, -6.37234541e+04,  3.86286509e+04,\n",
              "         7.53920904e+04,  4.60759162e+04,  7.14576609e+05,  3.61121507e+05,\n",
              "         3.75235098e+04,  3.23679889e+04,  4.35990548e+06,  2.94629837e+06,\n",
              "         4.72081229e+04,  3.38576691e+03,  6.00779863e+04,  5.10614860e+05,\n",
              "         2.05105145e+06,  4.41423695e+04,  2.22632738e+04,  4.76242565e+04,\n",
              "        -1.22785952e+04,  4.32402614e+06,  8.42067042e+04,  1.65722474e+04,\n",
              "         2.18482904e+04,  3.92651939e+04,  3.38576691e+03,  1.29702236e+06,\n",
              "         1.32446502e+05,  8.94455478e+05,  1.01638461e+05,  1.13792973e+06,\n",
              "         3.92478468e+05,  9.16278514e+04,  1.20073468e+05,  6.40410142e+05,\n",
              "         3.41458240e+05,  4.40495829e+05,  2.59507993e+06,  6.89334519e+05,\n",
              "         5.74900202e+04,  1.77201123e+06,  6.33873892e+05,  2.12285658e+06,\n",
              "         4.51226297e+06,  1.08273548e+06,  5.75740050e+04,  1.86745316e+04,\n",
              "         1.07438419e+06,  4.14751338e+04,  1.78917727e+04,  5.27749653e+05,\n",
              "         4.25131904e+05,  3.89011400e+06,  4.19217208e+05,  1.52225160e+05,\n",
              "         5.67107549e+05,  4.81386612e+05, -7.05931849e+03,  2.72226099e+06,\n",
              "         1.21689531e+05,  3.52002649e+06, -8.42649888e+03,  8.79974226e+05,\n",
              "         3.37459169e+05,  2.56575551e+03,  4.05939515e+04,  2.54588400e+05,\n",
              "         2.10213928e+05,  2.35524243e+04, -9.62320820e+03,  2.57781525e+04,\n",
              "         8.24149650e+05, -1.62498756e+05,  7.67247192e+03])]"
            ]
          },
          "execution_count": 50,
          "metadata": {},
          "output_type": "execute_result"
        }
      ],
      "source": [
        "preds"
      ]
    },
    {
      "cell_type": "markdown",
      "id": "b5662311",
      "metadata": {
        "id": "b5662311"
      },
      "source": [
        "k-fold로 나누어진 5개 모델의 예측값(pred)의 평균을 결과로 저장합니다. "
      ]
    },
    {
      "cell_type": "code",
      "execution_count": null,
      "id": "8bbb66c9",
      "metadata": {
        "id": "8bbb66c9"
      },
      "outputs": [],
      "source": [
        "kfoldLightGBM[\"box_off_num\"] = np.mean(preds, axis = 0) "
      ]
    },
    {
      "cell_type": "code",
      "execution_count": null,
      "id": "79532df5",
      "metadata": {
        "id": "79532df5",
        "outputId": "90d7f18c-6aba-4cf6-adb2-dd5370fc8c6d"
      },
      "outputs": [
        {
          "data": {
            "text/html": [
              "<div>\n",
              "<style scoped>\n",
              "    .dataframe tbody tr th:only-of-type {\n",
              "        vertical-align: middle;\n",
              "    }\n",
              "\n",
              "    .dataframe tbody tr th {\n",
              "        vertical-align: top;\n",
              "    }\n",
              "\n",
              "    .dataframe thead th {\n",
              "        text-align: right;\n",
              "    }\n",
              "</style>\n",
              "<table border=\"1\" class=\"dataframe\">\n",
              "  <thead>\n",
              "    <tr style=\"text-align: right;\">\n",
              "      <th></th>\n",
              "      <th>title</th>\n",
              "      <th>box_off_num</th>\n",
              "    </tr>\n",
              "  </thead>\n",
              "  <tbody>\n",
              "    <tr>\n",
              "      <th>0</th>\n",
              "      <td>용서는 없다</td>\n",
              "      <td>2.566294e+06</td>\n",
              "    </tr>\n",
              "    <tr>\n",
              "      <th>1</th>\n",
              "      <td>아빠가 여자를 좋아해</td>\n",
              "      <td>7.559196e+05</td>\n",
              "    </tr>\n",
              "    <tr>\n",
              "      <th>2</th>\n",
              "      <td>하모니</td>\n",
              "      <td>8.167889e+05</td>\n",
              "    </tr>\n",
              "    <tr>\n",
              "      <th>3</th>\n",
              "      <td>의형제</td>\n",
              "      <td>1.669145e+06</td>\n",
              "    </tr>\n",
              "    <tr>\n",
              "      <th>4</th>\n",
              "      <td>평행 이론</td>\n",
              "      <td>1.359821e+06</td>\n",
              "    </tr>\n",
              "  </tbody>\n",
              "</table>\n",
              "</div>"
            ],
            "text/plain": [
              "         title   box_off_num\n",
              "0       용서는 없다  2.566294e+06\n",
              "1  아빠가 여자를 좋아해  7.559196e+05\n",
              "2          하모니  8.167889e+05\n",
              "3          의형제  1.669145e+06\n",
              "4        평행 이론  1.359821e+06"
            ]
          },
          "execution_count": 52,
          "metadata": {},
          "output_type": "execute_result"
        }
      ],
      "source": [
        "kfoldLightGBM.head()"
      ]
    },
    {
      "cell_type": "markdown",
      "id": "5bbfad58",
      "metadata": {
        "id": "5bbfad58"
      },
      "source": [
        "데이콘 제출 양식에 맡게 csv 파일을 생성한 뒤 제출하여 이후 XGboost와 데이콘 Score를 비교해보겠습니다."
      ]
    },
    {
      "cell_type": "code",
      "execution_count": null,
      "id": "393f2df4",
      "metadata": {
        "id": "393f2df4"
      },
      "outputs": [],
      "source": [
        "kfoldLightGBM.to_csv(\"feLightGBM.csv\", index=False)"
      ]
    },
    {
      "cell_type": "markdown",
      "id": "7a04c56f",
      "metadata": {
        "id": "7a04c56f"
      },
      "source": [
        "### XGboost 모델 학습"
      ]
    },
    {
      "cell_type": "code",
      "execution_count": null,
      "id": "f0e86392",
      "metadata": {
        "id": "f0e86392"
      },
      "outputs": [],
      "source": [
        "X_train = train[features]\n",
        "Y_train = train[target]\n",
        "X_test = test[features]"
      ]
    },
    {
      "cell_type": "code",
      "execution_count": null,
      "id": "7db476b4",
      "metadata": {
        "id": "7db476b4",
        "outputId": "bb6ba9f7-d117-4c73-a893-4730cb5d0d15"
      },
      "outputs": [
        {
          "name": "stdout",
          "output_type": "stream",
          "text": [
            "[0]\tvalidation_0-rmse:1286085.19932\n",
            "[99]\tvalidation_0-rmse:1621718.18867\n",
            "[0]\tvalidation_0-rmse:1313946.05982\n",
            "[99]\tvalidation_0-rmse:1658365.81294\n",
            "[0]\tvalidation_0-rmse:1905834.75304\n",
            "[99]\tvalidation_0-rmse:2000179.45284\n",
            "[0]\tvalidation_0-rmse:2012544.89193\n",
            "[99]\tvalidation_0-rmse:1943760.54917\n",
            "[0]\tvalidation_0-rmse:2251347.95062\n",
            "[99]\tvalidation_0-rmse:1888315.79774\n"
          ]
        }
      ],
      "source": [
        "model2 = xgb.XGBRegressor(random_state=42)\n",
        "models2 = [ ]\n",
        "for train_idx, val_idx in k_fold.split(X_train):\n",
        "    x_t = X_train.iloc[train_idx]\n",
        "    y_t = Y_train.iloc[train_idx]\n",
        "    x_val = X_train.iloc[val_idx]\n",
        "    y_val = Y_train.iloc[val_idx]\n",
        "    models2.append(model2.fit(x_t, y_t, eval_set=[(x_val, y_val)], early_stopping_rounds=100, verbose = 100))"
      ]
    },
    {
      "cell_type": "code",
      "execution_count": null,
      "id": "0b04faf1",
      "metadata": {
        "id": "0b04faf1",
        "outputId": "6c316029-e8b1-4d78-d1ee-47a38310f983"
      },
      "outputs": [
        {
          "data": {
            "text/plain": [
              "[XGBRegressor(base_score=0.5, booster='gbtree', callbacks=None,\n",
              "              colsample_bylevel=1, colsample_bynode=1, colsample_bytree=1,\n",
              "              early_stopping_rounds=None, enable_categorical=False,\n",
              "              eval_metric=None, gamma=0, gpu_id=-1, grow_policy='depthwise',\n",
              "              importance_type=None, interaction_constraints='',\n",
              "              learning_rate=0.300000012, max_bin=256, max_cat_to_onehot=4,\n",
              "              max_delta_step=0, max_depth=6, max_leaves=0, min_child_weight=1,\n",
              "              missing=nan, monotone_constraints='()', n_estimators=100, n_jobs=0,\n",
              "              num_parallel_tree=1, predictor='auto', random_state=42,\n",
              "              reg_alpha=0, reg_lambda=1, ...),\n",
              " XGBRegressor(base_score=0.5, booster='gbtree', callbacks=None,\n",
              "              colsample_bylevel=1, colsample_bynode=1, colsample_bytree=1,\n",
              "              early_stopping_rounds=None, enable_categorical=False,\n",
              "              eval_metric=None, gamma=0, gpu_id=-1, grow_policy='depthwise',\n",
              "              importance_type=None, interaction_constraints='',\n",
              "              learning_rate=0.300000012, max_bin=256, max_cat_to_onehot=4,\n",
              "              max_delta_step=0, max_depth=6, max_leaves=0, min_child_weight=1,\n",
              "              missing=nan, monotone_constraints='()', n_estimators=100, n_jobs=0,\n",
              "              num_parallel_tree=1, predictor='auto', random_state=42,\n",
              "              reg_alpha=0, reg_lambda=1, ...),\n",
              " XGBRegressor(base_score=0.5, booster='gbtree', callbacks=None,\n",
              "              colsample_bylevel=1, colsample_bynode=1, colsample_bytree=1,\n",
              "              early_stopping_rounds=None, enable_categorical=False,\n",
              "              eval_metric=None, gamma=0, gpu_id=-1, grow_policy='depthwise',\n",
              "              importance_type=None, interaction_constraints='',\n",
              "              learning_rate=0.300000012, max_bin=256, max_cat_to_onehot=4,\n",
              "              max_delta_step=0, max_depth=6, max_leaves=0, min_child_weight=1,\n",
              "              missing=nan, monotone_constraints='()', n_estimators=100, n_jobs=0,\n",
              "              num_parallel_tree=1, predictor='auto', random_state=42,\n",
              "              reg_alpha=0, reg_lambda=1, ...),\n",
              " XGBRegressor(base_score=0.5, booster='gbtree', callbacks=None,\n",
              "              colsample_bylevel=1, colsample_bynode=1, colsample_bytree=1,\n",
              "              early_stopping_rounds=None, enable_categorical=False,\n",
              "              eval_metric=None, gamma=0, gpu_id=-1, grow_policy='depthwise',\n",
              "              importance_type=None, interaction_constraints='',\n",
              "              learning_rate=0.300000012, max_bin=256, max_cat_to_onehot=4,\n",
              "              max_delta_step=0, max_depth=6, max_leaves=0, min_child_weight=1,\n",
              "              missing=nan, monotone_constraints='()', n_estimators=100, n_jobs=0,\n",
              "              num_parallel_tree=1, predictor='auto', random_state=42,\n",
              "              reg_alpha=0, reg_lambda=1, ...),\n",
              " XGBRegressor(base_score=0.5, booster='gbtree', callbacks=None,\n",
              "              colsample_bylevel=1, colsample_bynode=1, colsample_bytree=1,\n",
              "              early_stopping_rounds=None, enable_categorical=False,\n",
              "              eval_metric=None, gamma=0, gpu_id=-1, grow_policy='depthwise',\n",
              "              importance_type=None, interaction_constraints='',\n",
              "              learning_rate=0.300000012, max_bin=256, max_cat_to_onehot=4,\n",
              "              max_delta_step=0, max_depth=6, max_leaves=0, min_child_weight=1,\n",
              "              missing=nan, monotone_constraints='()', n_estimators=100, n_jobs=0,\n",
              "              num_parallel_tree=1, predictor='auto', random_state=42,\n",
              "              reg_alpha=0, reg_lambda=1, ...)]"
            ]
          },
          "execution_count": 71,
          "metadata": {},
          "output_type": "execute_result"
        }
      ],
      "source": [
        "models2"
      ]
    },
    {
      "cell_type": "code",
      "execution_count": null,
      "id": "029ee06a",
      "metadata": {
        "id": "029ee06a",
        "outputId": "54c4b0d8-4b70-4e32-b430-d06dc69fed3c"
      },
      "outputs": [
        {
          "data": {
            "text/plain": [
              "5"
            ]
          },
          "execution_count": 72,
          "metadata": {},
          "output_type": "execute_result"
        }
      ],
      "source": [
        "preds2 = []\n",
        "for model2 in models2:\n",
        "    preds2.append(model2.predict(X_test))\n",
        "len(preds2)"
      ]
    },
    {
      "cell_type": "code",
      "execution_count": null,
      "id": "9ac433c5",
      "metadata": {
        "id": "9ac433c5",
        "outputId": "5bc9a171-5045-4d16-9fd8-5d8029a15a72"
      },
      "outputs": [
        {
          "data": {
            "text/plain": [
              "[array([2129685.8  , 1057690.5  ,  889935.   , 1333197.1  , 1211203.8  ,\n",
              "          22741.113,  204672.47 ,   22741.113,   22741.113,  442433.9  ,\n",
              "         759637.3  , 1192130.5  ,  280443.1  ,   22741.113,  417083.   ,\n",
              "        3771631.   ,   22741.113, 2608836.2  ,   86037.   ,   91942.   ,\n",
              "          23015.84 ,   22244.098, 1099133.5  ,   -8619.981,   13476.599,\n",
              "        1167588.9  ,   23015.84 ,  621569.2  ,  192919.88 ,   73431.39 ,\n",
              "        2286026.2  ,   23015.84 ,   40405.96 , 1349160.8  ,   22741.113,\n",
              "         108780.84 ,  204672.47 ,   23015.84 ,   22741.113,   12428.899,\n",
              "          22741.113,   39167.086,  113919.69 ,  121149.78 ,  435454.5  ,\n",
              "        2549407.2  ,   23015.84 ,   22741.113,  417206.1  ,   23015.84 ,\n",
              "          23015.84 , 1539095.1  ,  192960.7  , 1088954.9  ,  626557.   ,\n",
              "         125941.66 ,  -62018.27 ,  422315.75 , 1228827.6  , 5863370.5  ,\n",
              "         550452.5  , 2043568.8  ,  103764.625,   22741.113,   22741.113,\n",
              "          22741.113, 1121776.8  ,   22244.098,  362964.25 ,  125941.66 ,\n",
              "        1587061.5  ,  280130.84 ,   12703.626, 1001223.7  ,   49597.613,\n",
              "          23015.84 , 1388790.5  ,  289450.53 ,  324062.34 ,   23015.84 ,\n",
              "         125941.66 , 2662695.2  ,   22741.113, 2370027.8  ,   23015.84 ,\n",
              "        4138759.   ,   -8619.981,   23015.84 ,   23015.84 ,  133029.11 ,\n",
              "          23015.84 ,   23015.84 ,  125941.66 ,  337560.5  ,   31697.953,\n",
              "         493163.8  ,   44783.375,   40710.14 ,   40710.14 ,  -61963.406,\n",
              "        1343853.4  , 1770009.9  ,   23015.84 ,   22741.113,  644894.25 ,\n",
              "          91942.   , 1206737.9  ,   22741.113, 4108078.5  ,   23015.84 ,\n",
              "          39498.97 ,  978066.5  , 2040293.4  ,   40710.14 ,   22741.113,\n",
              "         651125.   ,  107688.36 , 1738968.   ,  103764.625,   22244.098,\n",
              "          40405.96 ,   83928.555,  985517.2  ,   23015.84 ,   13476.599,\n",
              "          43036.86 ,   23015.84 ,   23015.84 ,  500635.75 ,  176202.34 ,\n",
              "          27780.941,  520686.   ,   12703.626,   12703.626, 1151264.4  ,\n",
              "        4242438.5  ,   43036.86 ,  801125.4  ,  282596.3  ,   23015.84 ,\n",
              "          61988.094, 7212003.   , 6546827.5  ,  172514.61 ,   85359.22 ,\n",
              "        1069312.4  ,   23015.84 ,   91667.266, 1780684.1  ,  654822.   ,\n",
              "         281113.03 ,   39224.242,   22244.098,   40710.14 ,   23015.84 ,\n",
              "         818673.44 ,  103772.734,   91942.   ,  845410.1  , 1929782.2  ,\n",
              "         238270.06 ,  553348.9  ,   -8619.981,  512023.06 ,   23015.84 ,\n",
              "          -8619.981,  816399.8  ,   23015.84 ,   22244.098,   22244.098,\n",
              "          43036.86 ,   22518.828,  192960.7  ,   39224.242,  602854.1  ,\n",
              "         693284.9  ,   39224.242,   22741.113, 5130302.5  , 3098218.2  ,\n",
              "          73431.39 ,   12703.626,   39224.242, 1228705.9  ,  955894.56 ,\n",
              "          46910.773,   22741.113,   22741.113,   12703.626, 6809223.5  ,\n",
              "          22741.113,   12703.626,   39498.97 ,   12703.626,   12703.626,\n",
              "        1474902.6  ,   45058.1  , 2222414.2  ,   22518.828,  550452.5  ,\n",
              "          40710.14 ,  107019.31 ,   91942.   ,  227127.02 , 1140024.6  ,\n",
              "         977780.1  , 1670287.1  ,  552923.06 ,  328757.1  , 2041348.8  ,\n",
              "         303993.8  , 2207307.2  , 3321666.2  ,  252807.97 ,  176202.34 ,\n",
              "          22741.113,  851184.56 ,   22741.113,   23015.84 ,  378799.28 ,\n",
              "          64361.35 , 2679100.   ,   -8619.981,   22741.113,  395791.06 ,\n",
              "         537733.6  ,   40405.96 , 1640771.9  ,   22741.113, 3001747.5  ,\n",
              "          -8619.981,  951720.   ,  775069.1  ,   23015.84 ,   69557.48 ,\n",
              "         118462.61 ,  143224.28 ,   23015.84 ,   23015.84 ,   23015.84 ,\n",
              "        1149277.5  ,   22741.113,   12703.626], dtype=float32),\n",
              " array([2129685.8  , 1057690.5  ,  889935.   , 1333197.1  , 1211203.8  ,\n",
              "          22741.113,  204672.47 ,   22741.113,   22741.113,  442433.9  ,\n",
              "         759637.3  , 1192130.5  ,  280443.1  ,   22741.113,  417083.   ,\n",
              "        3771631.   ,   22741.113, 2608836.2  ,   86037.   ,   91942.   ,\n",
              "          23015.84 ,   22244.098, 1099133.5  ,   -8619.981,   13476.599,\n",
              "        1167588.9  ,   23015.84 ,  621569.2  ,  192919.88 ,   73431.39 ,\n",
              "        2286026.2  ,   23015.84 ,   40405.96 , 1349160.8  ,   22741.113,\n",
              "         108780.84 ,  204672.47 ,   23015.84 ,   22741.113,   12428.899,\n",
              "          22741.113,   39167.086,  113919.69 ,  121149.78 ,  435454.5  ,\n",
              "        2549407.2  ,   23015.84 ,   22741.113,  417206.1  ,   23015.84 ,\n",
              "          23015.84 , 1539095.1  ,  192960.7  , 1088954.9  ,  626557.   ,\n",
              "         125941.66 ,  -62018.27 ,  422315.75 , 1228827.6  , 5863370.5  ,\n",
              "         550452.5  , 2043568.8  ,  103764.625,   22741.113,   22741.113,\n",
              "          22741.113, 1121776.8  ,   22244.098,  362964.25 ,  125941.66 ,\n",
              "        1587061.5  ,  280130.84 ,   12703.626, 1001223.7  ,   49597.613,\n",
              "          23015.84 , 1388790.5  ,  289450.53 ,  324062.34 ,   23015.84 ,\n",
              "         125941.66 , 2662695.2  ,   22741.113, 2370027.8  ,   23015.84 ,\n",
              "        4138759.   ,   -8619.981,   23015.84 ,   23015.84 ,  133029.11 ,\n",
              "          23015.84 ,   23015.84 ,  125941.66 ,  337560.5  ,   31697.953,\n",
              "         493163.8  ,   44783.375,   40710.14 ,   40710.14 ,  -61963.406,\n",
              "        1343853.4  , 1770009.9  ,   23015.84 ,   22741.113,  644894.25 ,\n",
              "          91942.   , 1206737.9  ,   22741.113, 4108078.5  ,   23015.84 ,\n",
              "          39498.97 ,  978066.5  , 2040293.4  ,   40710.14 ,   22741.113,\n",
              "         651125.   ,  107688.36 , 1738968.   ,  103764.625,   22244.098,\n",
              "          40405.96 ,   83928.555,  985517.2  ,   23015.84 ,   13476.599,\n",
              "          43036.86 ,   23015.84 ,   23015.84 ,  500635.75 ,  176202.34 ,\n",
              "          27780.941,  520686.   ,   12703.626,   12703.626, 1151264.4  ,\n",
              "        4242438.5  ,   43036.86 ,  801125.4  ,  282596.3  ,   23015.84 ,\n",
              "          61988.094, 7212003.   , 6546827.5  ,  172514.61 ,   85359.22 ,\n",
              "        1069312.4  ,   23015.84 ,   91667.266, 1780684.1  ,  654822.   ,\n",
              "         281113.03 ,   39224.242,   22244.098,   40710.14 ,   23015.84 ,\n",
              "         818673.44 ,  103772.734,   91942.   ,  845410.1  , 1929782.2  ,\n",
              "         238270.06 ,  553348.9  ,   -8619.981,  512023.06 ,   23015.84 ,\n",
              "          -8619.981,  816399.8  ,   23015.84 ,   22244.098,   22244.098,\n",
              "          43036.86 ,   22518.828,  192960.7  ,   39224.242,  602854.1  ,\n",
              "         693284.9  ,   39224.242,   22741.113, 5130302.5  , 3098218.2  ,\n",
              "          73431.39 ,   12703.626,   39224.242, 1228705.9  ,  955894.56 ,\n",
              "          46910.773,   22741.113,   22741.113,   12703.626, 6809223.5  ,\n",
              "          22741.113,   12703.626,   39498.97 ,   12703.626,   12703.626,\n",
              "        1474902.6  ,   45058.1  , 2222414.2  ,   22518.828,  550452.5  ,\n",
              "          40710.14 ,  107019.31 ,   91942.   ,  227127.02 , 1140024.6  ,\n",
              "         977780.1  , 1670287.1  ,  552923.06 ,  328757.1  , 2041348.8  ,\n",
              "         303993.8  , 2207307.2  , 3321666.2  ,  252807.97 ,  176202.34 ,\n",
              "          22741.113,  851184.56 ,   22741.113,   23015.84 ,  378799.28 ,\n",
              "          64361.35 , 2679100.   ,   -8619.981,   22741.113,  395791.06 ,\n",
              "         537733.6  ,   40405.96 , 1640771.9  ,   22741.113, 3001747.5  ,\n",
              "          -8619.981,  951720.   ,  775069.1  ,   23015.84 ,   69557.48 ,\n",
              "         118462.61 ,  143224.28 ,   23015.84 ,   23015.84 ,   23015.84 ,\n",
              "        1149277.5  ,   22741.113,   12703.626], dtype=float32),\n",
              " array([2129685.8  , 1057690.5  ,  889935.   , 1333197.1  , 1211203.8  ,\n",
              "          22741.113,  204672.47 ,   22741.113,   22741.113,  442433.9  ,\n",
              "         759637.3  , 1192130.5  ,  280443.1  ,   22741.113,  417083.   ,\n",
              "        3771631.   ,   22741.113, 2608836.2  ,   86037.   ,   91942.   ,\n",
              "          23015.84 ,   22244.098, 1099133.5  ,   -8619.981,   13476.599,\n",
              "        1167588.9  ,   23015.84 ,  621569.2  ,  192919.88 ,   73431.39 ,\n",
              "        2286026.2  ,   23015.84 ,   40405.96 , 1349160.8  ,   22741.113,\n",
              "         108780.84 ,  204672.47 ,   23015.84 ,   22741.113,   12428.899,\n",
              "          22741.113,   39167.086,  113919.69 ,  121149.78 ,  435454.5  ,\n",
              "        2549407.2  ,   23015.84 ,   22741.113,  417206.1  ,   23015.84 ,\n",
              "          23015.84 , 1539095.1  ,  192960.7  , 1088954.9  ,  626557.   ,\n",
              "         125941.66 ,  -62018.27 ,  422315.75 , 1228827.6  , 5863370.5  ,\n",
              "         550452.5  , 2043568.8  ,  103764.625,   22741.113,   22741.113,\n",
              "          22741.113, 1121776.8  ,   22244.098,  362964.25 ,  125941.66 ,\n",
              "        1587061.5  ,  280130.84 ,   12703.626, 1001223.7  ,   49597.613,\n",
              "          23015.84 , 1388790.5  ,  289450.53 ,  324062.34 ,   23015.84 ,\n",
              "         125941.66 , 2662695.2  ,   22741.113, 2370027.8  ,   23015.84 ,\n",
              "        4138759.   ,   -8619.981,   23015.84 ,   23015.84 ,  133029.11 ,\n",
              "          23015.84 ,   23015.84 ,  125941.66 ,  337560.5  ,   31697.953,\n",
              "         493163.8  ,   44783.375,   40710.14 ,   40710.14 ,  -61963.406,\n",
              "        1343853.4  , 1770009.9  ,   23015.84 ,   22741.113,  644894.25 ,\n",
              "          91942.   , 1206737.9  ,   22741.113, 4108078.5  ,   23015.84 ,\n",
              "          39498.97 ,  978066.5  , 2040293.4  ,   40710.14 ,   22741.113,\n",
              "         651125.   ,  107688.36 , 1738968.   ,  103764.625,   22244.098,\n",
              "          40405.96 ,   83928.555,  985517.2  ,   23015.84 ,   13476.599,\n",
              "          43036.86 ,   23015.84 ,   23015.84 ,  500635.75 ,  176202.34 ,\n",
              "          27780.941,  520686.   ,   12703.626,   12703.626, 1151264.4  ,\n",
              "        4242438.5  ,   43036.86 ,  801125.4  ,  282596.3  ,   23015.84 ,\n",
              "          61988.094, 7212003.   , 6546827.5  ,  172514.61 ,   85359.22 ,\n",
              "        1069312.4  ,   23015.84 ,   91667.266, 1780684.1  ,  654822.   ,\n",
              "         281113.03 ,   39224.242,   22244.098,   40710.14 ,   23015.84 ,\n",
              "         818673.44 ,  103772.734,   91942.   ,  845410.1  , 1929782.2  ,\n",
              "         238270.06 ,  553348.9  ,   -8619.981,  512023.06 ,   23015.84 ,\n",
              "          -8619.981,  816399.8  ,   23015.84 ,   22244.098,   22244.098,\n",
              "          43036.86 ,   22518.828,  192960.7  ,   39224.242,  602854.1  ,\n",
              "         693284.9  ,   39224.242,   22741.113, 5130302.5  , 3098218.2  ,\n",
              "          73431.39 ,   12703.626,   39224.242, 1228705.9  ,  955894.56 ,\n",
              "          46910.773,   22741.113,   22741.113,   12703.626, 6809223.5  ,\n",
              "          22741.113,   12703.626,   39498.97 ,   12703.626,   12703.626,\n",
              "        1474902.6  ,   45058.1  , 2222414.2  ,   22518.828,  550452.5  ,\n",
              "          40710.14 ,  107019.31 ,   91942.   ,  227127.02 , 1140024.6  ,\n",
              "         977780.1  , 1670287.1  ,  552923.06 ,  328757.1  , 2041348.8  ,\n",
              "         303993.8  , 2207307.2  , 3321666.2  ,  252807.97 ,  176202.34 ,\n",
              "          22741.113,  851184.56 ,   22741.113,   23015.84 ,  378799.28 ,\n",
              "          64361.35 , 2679100.   ,   -8619.981,   22741.113,  395791.06 ,\n",
              "         537733.6  ,   40405.96 , 1640771.9  ,   22741.113, 3001747.5  ,\n",
              "          -8619.981,  951720.   ,  775069.1  ,   23015.84 ,   69557.48 ,\n",
              "         118462.61 ,  143224.28 ,   23015.84 ,   23015.84 ,   23015.84 ,\n",
              "        1149277.5  ,   22741.113,   12703.626], dtype=float32),\n",
              " array([2129685.8  , 1057690.5  ,  889935.   , 1333197.1  , 1211203.8  ,\n",
              "          22741.113,  204672.47 ,   22741.113,   22741.113,  442433.9  ,\n",
              "         759637.3  , 1192130.5  ,  280443.1  ,   22741.113,  417083.   ,\n",
              "        3771631.   ,   22741.113, 2608836.2  ,   86037.   ,   91942.   ,\n",
              "          23015.84 ,   22244.098, 1099133.5  ,   -8619.981,   13476.599,\n",
              "        1167588.9  ,   23015.84 ,  621569.2  ,  192919.88 ,   73431.39 ,\n",
              "        2286026.2  ,   23015.84 ,   40405.96 , 1349160.8  ,   22741.113,\n",
              "         108780.84 ,  204672.47 ,   23015.84 ,   22741.113,   12428.899,\n",
              "          22741.113,   39167.086,  113919.69 ,  121149.78 ,  435454.5  ,\n",
              "        2549407.2  ,   23015.84 ,   22741.113,  417206.1  ,   23015.84 ,\n",
              "          23015.84 , 1539095.1  ,  192960.7  , 1088954.9  ,  626557.   ,\n",
              "         125941.66 ,  -62018.27 ,  422315.75 , 1228827.6  , 5863370.5  ,\n",
              "         550452.5  , 2043568.8  ,  103764.625,   22741.113,   22741.113,\n",
              "          22741.113, 1121776.8  ,   22244.098,  362964.25 ,  125941.66 ,\n",
              "        1587061.5  ,  280130.84 ,   12703.626, 1001223.7  ,   49597.613,\n",
              "          23015.84 , 1388790.5  ,  289450.53 ,  324062.34 ,   23015.84 ,\n",
              "         125941.66 , 2662695.2  ,   22741.113, 2370027.8  ,   23015.84 ,\n",
              "        4138759.   ,   -8619.981,   23015.84 ,   23015.84 ,  133029.11 ,\n",
              "          23015.84 ,   23015.84 ,  125941.66 ,  337560.5  ,   31697.953,\n",
              "         493163.8  ,   44783.375,   40710.14 ,   40710.14 ,  -61963.406,\n",
              "        1343853.4  , 1770009.9  ,   23015.84 ,   22741.113,  644894.25 ,\n",
              "          91942.   , 1206737.9  ,   22741.113, 4108078.5  ,   23015.84 ,\n",
              "          39498.97 ,  978066.5  , 2040293.4  ,   40710.14 ,   22741.113,\n",
              "         651125.   ,  107688.36 , 1738968.   ,  103764.625,   22244.098,\n",
              "          40405.96 ,   83928.555,  985517.2  ,   23015.84 ,   13476.599,\n",
              "          43036.86 ,   23015.84 ,   23015.84 ,  500635.75 ,  176202.34 ,\n",
              "          27780.941,  520686.   ,   12703.626,   12703.626, 1151264.4  ,\n",
              "        4242438.5  ,   43036.86 ,  801125.4  ,  282596.3  ,   23015.84 ,\n",
              "          61988.094, 7212003.   , 6546827.5  ,  172514.61 ,   85359.22 ,\n",
              "        1069312.4  ,   23015.84 ,   91667.266, 1780684.1  ,  654822.   ,\n",
              "         281113.03 ,   39224.242,   22244.098,   40710.14 ,   23015.84 ,\n",
              "         818673.44 ,  103772.734,   91942.   ,  845410.1  , 1929782.2  ,\n",
              "         238270.06 ,  553348.9  ,   -8619.981,  512023.06 ,   23015.84 ,\n",
              "          -8619.981,  816399.8  ,   23015.84 ,   22244.098,   22244.098,\n",
              "          43036.86 ,   22518.828,  192960.7  ,   39224.242,  602854.1  ,\n",
              "         693284.9  ,   39224.242,   22741.113, 5130302.5  , 3098218.2  ,\n",
              "          73431.39 ,   12703.626,   39224.242, 1228705.9  ,  955894.56 ,\n",
              "          46910.773,   22741.113,   22741.113,   12703.626, 6809223.5  ,\n",
              "          22741.113,   12703.626,   39498.97 ,   12703.626,   12703.626,\n",
              "        1474902.6  ,   45058.1  , 2222414.2  ,   22518.828,  550452.5  ,\n",
              "          40710.14 ,  107019.31 ,   91942.   ,  227127.02 , 1140024.6  ,\n",
              "         977780.1  , 1670287.1  ,  552923.06 ,  328757.1  , 2041348.8  ,\n",
              "         303993.8  , 2207307.2  , 3321666.2  ,  252807.97 ,  176202.34 ,\n",
              "          22741.113,  851184.56 ,   22741.113,   23015.84 ,  378799.28 ,\n",
              "          64361.35 , 2679100.   ,   -8619.981,   22741.113,  395791.06 ,\n",
              "         537733.6  ,   40405.96 , 1640771.9  ,   22741.113, 3001747.5  ,\n",
              "          -8619.981,  951720.   ,  775069.1  ,   23015.84 ,   69557.48 ,\n",
              "         118462.61 ,  143224.28 ,   23015.84 ,   23015.84 ,   23015.84 ,\n",
              "        1149277.5  ,   22741.113,   12703.626], dtype=float32),\n",
              " array([2129685.8  , 1057690.5  ,  889935.   , 1333197.1  , 1211203.8  ,\n",
              "          22741.113,  204672.47 ,   22741.113,   22741.113,  442433.9  ,\n",
              "         759637.3  , 1192130.5  ,  280443.1  ,   22741.113,  417083.   ,\n",
              "        3771631.   ,   22741.113, 2608836.2  ,   86037.   ,   91942.   ,\n",
              "          23015.84 ,   22244.098, 1099133.5  ,   -8619.981,   13476.599,\n",
              "        1167588.9  ,   23015.84 ,  621569.2  ,  192919.88 ,   73431.39 ,\n",
              "        2286026.2  ,   23015.84 ,   40405.96 , 1349160.8  ,   22741.113,\n",
              "         108780.84 ,  204672.47 ,   23015.84 ,   22741.113,   12428.899,\n",
              "          22741.113,   39167.086,  113919.69 ,  121149.78 ,  435454.5  ,\n",
              "        2549407.2  ,   23015.84 ,   22741.113,  417206.1  ,   23015.84 ,\n",
              "          23015.84 , 1539095.1  ,  192960.7  , 1088954.9  ,  626557.   ,\n",
              "         125941.66 ,  -62018.27 ,  422315.75 , 1228827.6  , 5863370.5  ,\n",
              "         550452.5  , 2043568.8  ,  103764.625,   22741.113,   22741.113,\n",
              "          22741.113, 1121776.8  ,   22244.098,  362964.25 ,  125941.66 ,\n",
              "        1587061.5  ,  280130.84 ,   12703.626, 1001223.7  ,   49597.613,\n",
              "          23015.84 , 1388790.5  ,  289450.53 ,  324062.34 ,   23015.84 ,\n",
              "         125941.66 , 2662695.2  ,   22741.113, 2370027.8  ,   23015.84 ,\n",
              "        4138759.   ,   -8619.981,   23015.84 ,   23015.84 ,  133029.11 ,\n",
              "          23015.84 ,   23015.84 ,  125941.66 ,  337560.5  ,   31697.953,\n",
              "         493163.8  ,   44783.375,   40710.14 ,   40710.14 ,  -61963.406,\n",
              "        1343853.4  , 1770009.9  ,   23015.84 ,   22741.113,  644894.25 ,\n",
              "          91942.   , 1206737.9  ,   22741.113, 4108078.5  ,   23015.84 ,\n",
              "          39498.97 ,  978066.5  , 2040293.4  ,   40710.14 ,   22741.113,\n",
              "         651125.   ,  107688.36 , 1738968.   ,  103764.625,   22244.098,\n",
              "          40405.96 ,   83928.555,  985517.2  ,   23015.84 ,   13476.599,\n",
              "          43036.86 ,   23015.84 ,   23015.84 ,  500635.75 ,  176202.34 ,\n",
              "          27780.941,  520686.   ,   12703.626,   12703.626, 1151264.4  ,\n",
              "        4242438.5  ,   43036.86 ,  801125.4  ,  282596.3  ,   23015.84 ,\n",
              "          61988.094, 7212003.   , 6546827.5  ,  172514.61 ,   85359.22 ,\n",
              "        1069312.4  ,   23015.84 ,   91667.266, 1780684.1  ,  654822.   ,\n",
              "         281113.03 ,   39224.242,   22244.098,   40710.14 ,   23015.84 ,\n",
              "         818673.44 ,  103772.734,   91942.   ,  845410.1  , 1929782.2  ,\n",
              "         238270.06 ,  553348.9  ,   -8619.981,  512023.06 ,   23015.84 ,\n",
              "          -8619.981,  816399.8  ,   23015.84 ,   22244.098,   22244.098,\n",
              "          43036.86 ,   22518.828,  192960.7  ,   39224.242,  602854.1  ,\n",
              "         693284.9  ,   39224.242,   22741.113, 5130302.5  , 3098218.2  ,\n",
              "          73431.39 ,   12703.626,   39224.242, 1228705.9  ,  955894.56 ,\n",
              "          46910.773,   22741.113,   22741.113,   12703.626, 6809223.5  ,\n",
              "          22741.113,   12703.626,   39498.97 ,   12703.626,   12703.626,\n",
              "        1474902.6  ,   45058.1  , 2222414.2  ,   22518.828,  550452.5  ,\n",
              "          40710.14 ,  107019.31 ,   91942.   ,  227127.02 , 1140024.6  ,\n",
              "         977780.1  , 1670287.1  ,  552923.06 ,  328757.1  , 2041348.8  ,\n",
              "         303993.8  , 2207307.2  , 3321666.2  ,  252807.97 ,  176202.34 ,\n",
              "          22741.113,  851184.56 ,   22741.113,   23015.84 ,  378799.28 ,\n",
              "          64361.35 , 2679100.   ,   -8619.981,   22741.113,  395791.06 ,\n",
              "         537733.6  ,   40405.96 , 1640771.9  ,   22741.113, 3001747.5  ,\n",
              "          -8619.981,  951720.   ,  775069.1  ,   23015.84 ,   69557.48 ,\n",
              "         118462.61 ,  143224.28 ,   23015.84 ,   23015.84 ,   23015.84 ,\n",
              "        1149277.5  ,   22741.113,   12703.626], dtype=float32)]"
            ]
          },
          "execution_count": 73,
          "metadata": {},
          "output_type": "execute_result"
        }
      ],
      "source": [
        "preds2"
      ]
    },
    {
      "cell_type": "code",
      "execution_count": null,
      "id": "d7757fe1",
      "metadata": {
        "id": "d7757fe1"
      },
      "outputs": [],
      "source": [
        "kfoldXGboost = submission.copy()"
      ]
    },
    {
      "cell_type": "code",
      "execution_count": null,
      "id": "2cacc8c3",
      "metadata": {
        "id": "2cacc8c3"
      },
      "outputs": [],
      "source": [
        "kfoldXGboost[\"box_off_num\"] = np.mean(preds2, axis = 0) "
      ]
    },
    {
      "cell_type": "code",
      "execution_count": null,
      "id": "f5cb73b0",
      "metadata": {
        "id": "f5cb73b0",
        "outputId": "329eaef9-d2fd-4343-fc0d-d53601e1be5d"
      },
      "outputs": [
        {
          "data": {
            "text/html": [
              "<div>\n",
              "<style scoped>\n",
              "    .dataframe tbody tr th:only-of-type {\n",
              "        vertical-align: middle;\n",
              "    }\n",
              "\n",
              "    .dataframe tbody tr th {\n",
              "        vertical-align: top;\n",
              "    }\n",
              "\n",
              "    .dataframe thead th {\n",
              "        text-align: right;\n",
              "    }\n",
              "</style>\n",
              "<table border=\"1\" class=\"dataframe\">\n",
              "  <thead>\n",
              "    <tr style=\"text-align: right;\">\n",
              "      <th></th>\n",
              "      <th>title</th>\n",
              "      <th>box_off_num</th>\n",
              "    </tr>\n",
              "  </thead>\n",
              "  <tbody>\n",
              "    <tr>\n",
              "      <th>0</th>\n",
              "      <td>용서는 없다</td>\n",
              "      <td>2129685.750</td>\n",
              "    </tr>\n",
              "    <tr>\n",
              "      <th>1</th>\n",
              "      <td>아빠가 여자를 좋아해</td>\n",
              "      <td>1057690.500</td>\n",
              "    </tr>\n",
              "    <tr>\n",
              "      <th>2</th>\n",
              "      <td>하모니</td>\n",
              "      <td>889935.000</td>\n",
              "    </tr>\n",
              "    <tr>\n",
              "      <th>3</th>\n",
              "      <td>의형제</td>\n",
              "      <td>1333197.125</td>\n",
              "    </tr>\n",
              "    <tr>\n",
              "      <th>4</th>\n",
              "      <td>평행 이론</td>\n",
              "      <td>1211203.750</td>\n",
              "    </tr>\n",
              "  </tbody>\n",
              "</table>\n",
              "</div>"
            ],
            "text/plain": [
              "         title  box_off_num\n",
              "0       용서는 없다  2129685.750\n",
              "1  아빠가 여자를 좋아해  1057690.500\n",
              "2          하모니   889935.000\n",
              "3          의형제  1333197.125\n",
              "4        평행 이론  1211203.750"
            ]
          },
          "execution_count": 76,
          "metadata": {},
          "output_type": "execute_result"
        }
      ],
      "source": [
        "kfoldXGboost.head()"
      ]
    },
    {
      "cell_type": "code",
      "execution_count": null,
      "id": "ff549f7a",
      "metadata": {
        "id": "ff549f7a"
      },
      "outputs": [],
      "source": [
        "kfoldXGboost.to_csv('kfoldXGboost.csv', index=False)"
      ]
    },
    {
      "cell_type": "code",
      "execution_count": null,
      "id": "20919691",
      "metadata": {
        "id": "20919691",
        "outputId": "26d8db54-a7b7-4c47-9f85-8954ede646be"
      },
      "outputs": [
        {
          "name": "stdout",
          "output_type": "stream",
          "text": [
            "Requirement already satisfied: IPython in c:\\users\\kjso3\\anaconda3\\lib\\site-packages (7.22.0)\n",
            "Requirement already satisfied: traitlets>=4.2 in c:\\users\\kjso3\\anaconda3\\lib\\site-packages (from IPython) (5.0.5)\n",
            "Requirement already satisfied: colorama in c:\\users\\kjso3\\anaconda3\\lib\\site-packages (from IPython) (0.4.4)\n",
            "Requirement already satisfied: pygments in c:\\users\\kjso3\\anaconda3\\lib\\site-packages (from IPython) (2.8.1)\n",
            "Requirement already satisfied: pickleshare in c:\\users\\kjso3\\anaconda3\\lib\\site-packages (from IPython) (0.7.5)\n",
            "Requirement already satisfied: backcall in c:\\users\\kjso3\\anaconda3\\lib\\site-packages (from IPython) (0.2.0)\n",
            "Requirement already satisfied: jedi>=0.16 in c:\\users\\kjso3\\anaconda3\\lib\\site-packages (from IPython) (0.17.2)\n",
            "Requirement already satisfied: prompt-toolkit!=3.0.0,!=3.0.1,<3.1.0,>=2.0.0 in c:\\users\\kjso3\\anaconda3\\lib\\site-packages (from IPython) (3.0.17)\n",
            "Requirement already satisfied: setuptools>=18.5 in c:\\users\\kjso3\\anaconda3\\lib\\site-packages (from IPython) (52.0.0.post20210125)\n",
            "Requirement already satisfied: decorator in c:\\users\\kjso3\\anaconda3\\lib\\site-packages (from IPython) (5.0.6)\n",
            "Requirement already satisfied: parso<0.8.0,>=0.7.0 in c:\\users\\kjso3\\anaconda3\\lib\\site-packages (from jedi>=0.16->IPython) (0.7.0)\n",
            "Requirement already satisfied: wcwidth in c:\\users\\kjso3\\anaconda3\\lib\\site-packages (from prompt-toolkit!=3.0.0,!=3.0.1,<3.1.0,>=2.0.0->IPython) (0.2.5)\n",
            "Requirement already satisfied: ipython-genutils in c:\\users\\kjso3\\anaconda3\\lib\\site-packages (from traitlets>=4.2->IPython) (0.2.0)\n"
          ]
        }
      ],
      "source": [
        "!pip install IPython "
      ]
    },
    {
      "cell_type": "code",
      "execution_count": null,
      "id": "c791c191",
      "metadata": {
        "id": "c791c191"
      },
      "outputs": [],
      "source": [
        "from IPython.display import Image"
      ]
    },
    {
      "cell_type": "code",
      "execution_count": null,
      "id": "bafca7fb",
      "metadata": {
        "id": "bafca7fb",
        "outputId": "798e6d22-2574-4779-c6b5-8870fc21ce47"
      },
      "outputs": [
        {
          "data": {
            "image/png": "[encoded data removed]",
            "text/plain": [
              "<IPython.core.display.Image object>"
            ]
          },
          "execution_count": 86,
          "metadata": {},
          "output_type": "execute_result"
        }
      ],
      "source": [
        "Image(\"C:/Users/kjso3/Project/result.PNG\")"
      ]
    },
    {
      "cell_type": "markdown",
      "id": "207fb1ea",
      "metadata": {
        "id": "207fb1ea"
      },
      "source": [
        "### 점수를 확인한 결과 LightGBM의 점수가 더 낮기 때문에(평가 지표가 RMSE여서 낮을수록 좋습니다.) LightGBM의 하이퍼 파라미터를 수정하여 다시 제출해보도록 하겠습니다."
      ]
    },
    {
      "cell_type": "markdown",
      "id": "af9abc34",
      "metadata": {
        "id": "af9abc34"
      },
      "source": [
        "## Grid Search"
      ]
    },
    {
      "cell_type": "markdown",
      "id": "6fe7664c",
      "metadata": {
        "id": "6fe7664c"
      },
      "source": [
        "모델 튜닝"
      ]
    },
    {
      "cell_type": "code",
      "execution_count": null,
      "id": "50e9774a",
      "metadata": {
        "id": "50e9774a"
      },
      "outputs": [],
      "source": [
        "from sklearn.model_selection import GridSearchCV"
      ]
    },
    {
      "cell_type": "code",
      "execution_count": null,
      "id": "b50b645f",
      "metadata": {
        "id": "b50b645f"
      },
      "outputs": [],
      "source": [
        "params = {\n",
        "    'learning_rate': [0.2, 0.1, 0.05, 0.01, 0.003], # 값이 적을수록 점점더 미세하게 변화가 이루어짐\n",
        "    'max_depth': [1,2,3,4,5,6,7,8],# 트리의 최대 깊이 - 과적합 조절\n",
        "    'n_estimators': [3,5,10,20,30,100,500,1000],# \n",
        "    'gamma': [0.5, 1, 2],# leaf node의 추가분할을 결정할 최소손실 감소값값이 - 클수록 과적합 감소\n",
        "    'min_child_samples': [10, 15, 20, 30] } # leaf node에 포함되는 최소 관측치의 수 - 과적합 조절\n",
        "\n",
        "\n",
        "gs = GridSearchCV(estimator=model,\n",
        "            param_grid=params,\n",
        "            scoring='neg_mean_squared_error', #평가지표인 rmse지표\n",
        "            cv = k_fold,\n",
        "            n_jobs = -1 )"
      ]
    },
    {
      "cell_type": "code",
      "execution_count": null,
      "id": "5c3b7e35",
      "metadata": {
        "id": "5c3b7e35",
        "outputId": "958d23da-15d1-46ab-a0c6-020ebf5972be"
      },
      "outputs": [
        {
          "data": {
            "text/plain": [
              "GridSearchCV(cv=KFold(n_splits=5, random_state=42, shuffle=True),\n",
              "             estimator=LGBMRegressor(n_estimators=1000, random_state=42),\n",
              "             n_jobs=-1,\n",
              "             param_grid={'gamma': [0.5, 1, 2],\n",
              "                         'learning_rate': [0.2, 0.1, 0.05, 0.01, 0.003],\n",
              "                         'max_depth': [1, 2, 3, 4, 5, 6, 7, 8],\n",
              "                         'min_child_samples': [10, 15, 20, 30],\n",
              "                         'n_estimators': [3, 5, 10, 20, 30, 100, 500, 1000]},\n",
              "             scoring='neg_mean_squared_error')"
            ]
          },
          "execution_count": 107,
          "metadata": {},
          "output_type": "execute_result"
        }
      ],
      "source": [
        "gs.fit(X_train, Y_train)"
      ]
    },
    {
      "cell_type": "code",
      "execution_count": null,
      "id": "49495fa1",
      "metadata": {
        "id": "49495fa1",
        "outputId": "7664ef17-4381-4092-88ee-4d4cb56e6730"
      },
      "outputs": [
        {
          "data": {
            "text/plain": [
              "{'gamma': 0.5,\n",
              " 'learning_rate': 0.1,\n",
              " 'max_depth': 2,\n",
              " 'min_child_samples': 30,\n",
              " 'n_estimators': 100}"
            ]
          },
          "execution_count": 108,
          "metadata": {},
          "output_type": "execute_result"
        }
      ],
      "source": [
        "gs.best_params_"
      ]
    },
    {
      "cell_type": "markdown",
      "id": "8158a04c",
      "metadata": {
        "id": "8158a04c"
      },
      "source": [
        "Grid Search 를 활용하여 설정해준 범위 내의 최적의 하이퍼 파라미터 값을 찾았습니다. 이것을 LighGBM 모델에 적용해보고 결과를 보도록 하겠습니다."
      ]
    },
    {
      "cell_type": "code",
      "execution_count": null,
      "id": "05f0efdc",
      "metadata": {
        "id": "05f0efdc",
        "outputId": "03ac07ee-408b-4d2e-fa9d-1c4bdd549adf"
      },
      "outputs": [
        {
          "name": "stdout",
          "output_type": "stream",
          "text": [
            "[100]\tvalid_0's l2: 1.51874e+12\n",
            "[100]\tvalid_0's l2: 1.1867e+12\n",
            "[100]\tvalid_0's l2: 2.14494e+12\n",
            "[100]\tvalid_0's l2: 2.71216e+12\n",
            "[100]\tvalid_0's l2: 3.08291e+12\n"
          ]
        }
      ],
      "source": [
        "model3 = lgb.LGBMRegressor(\n",
        "    random_state=42, \n",
        "    gamma = 0.5, \n",
        "    learning_rate = 0.1, \n",
        "    max_depth = 2,\n",
        "    min_child_samples = 30,\n",
        "    n_estimators = 100)\n",
        "models3 = [ ]\n",
        "for train_idx, val_idx in k_fold.split(X_train):\n",
        "    x_t = X_train.iloc[train_idx]\n",
        "    y_t = Y_train.iloc[train_idx]\n",
        "    x_val = X_train.iloc[val_idx]\n",
        "    y_val = Y_train.iloc[val_idx]\n",
        "    models3.append(model3.fit(x_t, y_t, eval_set=[(x_val, y_val)], early_stopping_rounds=100, verbose = 100))"
      ]
    },
    {
      "cell_type": "code",
      "execution_count": null,
      "id": "16d62d2f",
      "metadata": {
        "id": "16d62d2f"
      },
      "outputs": [],
      "source": [
        "preds3 = []\n",
        "for model3 in models3 :\n",
        "    preds3.append(model3.predict(X_test))"
      ]
    },
    {
      "cell_type": "code",
      "execution_count": null,
      "id": "9b10ec70",
      "metadata": {
        "id": "9b10ec70"
      },
      "outputs": [],
      "source": [
        "gsLGBM = submission.copy()"
      ]
    },
    {
      "cell_type": "code",
      "execution_count": null,
      "id": "8a09822c",
      "metadata": {
        "id": "8a09822c"
      },
      "outputs": [],
      "source": [
        "gsLGBM['box_off_num'] = np.mean(preds3, axis = 0)"
      ]
    },
    {
      "cell_type": "code",
      "execution_count": null,
      "id": "63c335bc",
      "metadata": {
        "id": "63c335bc"
      },
      "outputs": [],
      "source": [
        "gsLGBM.to_csv(\"gsLGBM.csv\", index= False)"
      ]
    },
    {
      "cell_type": "code",
      "execution_count": null,
      "id": "9fd90958",
      "metadata": {
        "id": "9fd90958",
        "outputId": "5719e011-f3a6-467a-f611-6a4ec0102b5e"
      },
      "outputs": [
        {
          "data": {
            "image/png": "[encoded data removed]",
            "text/plain": [
              "<IPython.core.display.Image object>"
            ]
          },
          "execution_count": 115,
          "metadata": {},
          "output_type": "execute_result"
        }
      ],
      "source": [
        "Image(\"C:/Users/kjso3/Project/result2.PNG\")"
      ]
    },
    {
      "cell_type": "markdown",
      "id": "704d60fa",
      "metadata": {
        "id": "704d60fa"
      },
      "source": [
        "__Grid Search를 적용한 LightGBM 모델을 제출한 결과를 보니 점수가 줄어들었습니다. 점수가 적을수록 예측을 잘한 것이기 때문에 적용 전보다 더 좋은 모델이 되었다는 것을 알 수 있습니다.__"
      ]
    },
    {
      "cell_type": "markdown",
      "id": "381f80fb",
      "metadata": {
        "id": "381f80fb"
      },
      "source": [
        "### 결과는 제출한 788명중에 617등 ..! ㅠㅠ 많이 아쉽지만 시간도 없었고 교육 데이터 이외의 데이터로 학습을 처음 시도해보았다는 것에 의미를 두고 여기서 마무리 하려고 합니다! 봐주셔서 감사합니다."
      ]
    }
  ],
  "metadata": {
    "kernelspec": {
      "display_name": "Python 3",
      "language": "python",
      "name": "python3"
    },
    "language_info": {
      "codemirror_mode": {
        "name": "ipython",
        "version": 3
      },
      "file_extension": ".py",
      "mimetype": "text/x-python",
      "name": "python",
      "nbconvert_exporter": "python",
      "pygments_lexer": "ipython3",
      "version": "3.8.8"
    },
    "colab": {
      "name": "AI_14_최유진_Section2.ipynb",
      "provenance": [],
      "include_colab_link": true
    }
  },
  "nbformat": 4,
  "nbformat_minor": 5
}